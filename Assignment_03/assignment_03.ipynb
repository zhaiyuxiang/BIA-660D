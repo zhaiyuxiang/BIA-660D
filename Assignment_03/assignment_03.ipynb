{
 "cells": [
  {
   "cell_type": "code",
   "execution_count": 1,
   "metadata": {},
   "outputs": [],
   "source": [
    "import pandas as pd\n",
    "import numpy as np\n",
    "import matplotlib.pyplot as plt"
   ]
  },
  {
   "cell_type": "code",
   "execution_count": 2,
   "metadata": {},
   "outputs": [],
   "source": [
    "#data slice for reviews\n",
    "df=pd.read_json('reviews.json')   \n",
    "temp=[i.strip() for i in df.iloc[:,3]]   "
   ]
  },
  {
   "cell_type": "code",
   "execution_count": 3,
   "metadata": {},
   "outputs": [],
   "source": [
    "#delete punctuation\n",
    "import string\n",
    "exclude = set(string.punctuation)\n",
    "reviews=[]\n",
    "for i in range(len(temp)):\n",
    "    reviews.append(''.join(ch for ch in temp[i] if ch not in exclude))  "
   ]
  },
  {
   "cell_type": "code",
   "execution_count": 4,
   "metadata": {},
   "outputs": [],
   "source": [
    "#delete numbers\n",
    "reviews1=[]\n",
    "for i in range(len(temp)):\n",
    "\n",
    "    reviews1.append(''.join(ch for ch in reviews[i] if not ch.isdigit()))  "
   ]
  },
  {
   "cell_type": "code",
   "execution_count": 5,
   "metadata": {
    "scrolled": true
   },
   "outputs": [],
   "source": [
    "#stem words\n",
    "from nltk.tokenize import word_tokenize,sent_tokenize\n",
    "from nltk.stem.lancaster import LancasterStemmer\n",
    "stemmer = LancasterStemmer()\n",
    "temp1=[]\n",
    "temp2=[]\n",
    "for i in range(len(reviews)):\n",
    "    words = word_tokenize(reviews1[i])\n",
    "    for word in words:\n",
    "        temp1.append(stemmer.stem(word))\n",
    "    temp2.append(temp1)\n",
    "    temp1=[]\n",
    "\n",
    "stemed_reviews=[]\n",
    "for i in range(len(temp2)):\n",
    "    a=' '.join(temp2[i])\n",
    "    stemed_reviews.append(a)   "
   ]
  },
  {
   "cell_type": "code",
   "execution_count": 6,
   "metadata": {},
   "outputs": [],
   "source": [
    "#get word bag\n",
    "from sklearn.feature_extraction.text import CountVectorizer\n",
    "cv = CountVectorizer(stop_words='english')\n",
    "data = cv.fit_transform(stemed_reviews)\n",
    "data=data.toarray()\n",
    "word_bag_title=cv.get_feature_names()  \n",
    "df.replace(to_replace=df['Review'].values,value=stemed_reviews,inplace=True)    "
   ]
  },
  {
   "cell_type": "code",
   "execution_count": 7,
   "metadata": {},
   "outputs": [
    {
     "data": {
      "image/png": "[encoded data removed]",
      "text/plain": [
       "<matplotlib.figure.Figure at 0x185f0e94668>"
      ]
     },
     "metadata": {},
     "output_type": "display_data"
    }
   ],
   "source": [
    "#EDA part\n",
    "reviews=df.iloc[:, 3]   \n",
    "review_lengths=reviews.apply(lambda r: len(r))\n",
    "review_lengths.describe()\n",
    "review_lengths.plot(kind='kde',logx=True)\n",
    "plt.show()"
   ]
  },
  {
   "cell_type": "markdown",
   "metadata": {},
   "source": [
    "Seems like the lenth of the reviews are not normal distributed, thus we won't use this as a feature."
   ]
  },
  {
   "cell_type": "code",
   "execution_count": 8,
   "metadata": {},
   "outputs": [],
   "source": [
    "#get DV and IV\n",
    "x = data\n",
    "y = df.iloc[:, 2].values    "
   ]
  },
  {
   "cell_type": "code",
   "execution_count": 9,
   "metadata": {},
   "outputs": [],
   "source": [
    "#splitting the dataset into the sraining set and test set\n",
    "from sklearn.model_selection import train_test_split             \n",
    "x_train, x_test, y_train, y_test = train_test_split(x, y, test_size = 0.25, random_state = 0)    "
   ]
  },
  {
   "cell_type": "markdown",
   "metadata": {},
   "source": [
    "RandomForest Algorithm"
   ]
  },
  {
   "cell_type": "code",
   "execution_count": 10,
   "metadata": {},
   "outputs": [
    {
     "data": {
      "text/plain": [
       "RandomForestClassifier(bootstrap=True, class_weight=None, criterion='gini',\n",
       "            max_depth=None, max_features='auto', max_leaf_nodes=None,\n",
       "            min_impurity_decrease=0.0, min_impurity_split=None,\n",
       "            min_samples_leaf=1, min_samples_split=2,\n",
       "            min_weight_fraction_leaf=0.0, n_estimators=10, n_jobs=1,\n",
       "            oob_score=False, random_state=0, verbose=0, warm_start=False)"
      ]
     },
     "execution_count": 10,
     "metadata": {},
     "output_type": "execute_result"
    }
   ],
   "source": [
    "from sklearn.ensemble import RandomForestClassifier         \n",
    "RFclassifier=RandomForestClassifier(random_state=0)\n",
    "RFclassifier.fit(x_train,y_train)"
   ]
  },
  {
   "cell_type": "code",
   "execution_count": 11,
   "metadata": {},
   "outputs": [
    {
     "name": "stdout",
     "output_type": "stream",
     "text": [
      "Best: 0.673496 using {'max_depth': None, 'min_samples_leaf': 1, 'min_samples_split': 10, 'n_estimators': 100}\n",
      "0.660691 (0.014919) with: {'max_depth': None, 'min_samples_leaf': 1, 'min_samples_split': 2, 'n_estimators': 10}\n",
      "0.669654 (0.010993) with: {'max_depth': None, 'min_samples_leaf': 1, 'min_samples_split': 2, 'n_estimators': 100}\n",
      "0.668374 (0.019322) with: {'max_depth': None, 'min_samples_leaf': 1, 'min_samples_split': 2, 'n_estimators': 500}\n",
      "0.665813 (0.014994) with: {'max_depth': None, 'min_samples_leaf': 1, 'min_samples_split': 2, 'n_estimators': 1000}\n",
      "0.658131 (0.020479) with: {'max_depth': None, 'min_samples_leaf': 1, 'min_samples_split': 5, 'n_estimators': 10}\n",
      "0.670935 (0.012623) with: {'max_depth': None, 'min_samples_leaf': 1, 'min_samples_split': 5, 'n_estimators': 100}\n",
      "0.672215 (0.012580) with: {'max_depth': None, 'min_samples_leaf': 1, 'min_samples_split': 5, 'n_estimators': 500}\n",
      "0.670935 (0.014205) with: {'max_depth': None, 'min_samples_leaf': 1, 'min_samples_split': 5, 'n_estimators': 1000}\n",
      "0.668374 (0.014817) with: {'max_depth': None, 'min_samples_leaf': 1, 'min_samples_split': 10, 'n_estimators': 10}\n",
      "0.673496 (0.007445) with: {'max_depth': None, 'min_samples_leaf': 1, 'min_samples_split': 10, 'n_estimators': 100}\n",
      "0.672215 (0.011207) with: {'max_depth': None, 'min_samples_leaf': 1, 'min_samples_split': 10, 'n_estimators': 500}\n",
      "0.670935 (0.011684) with: {'max_depth': None, 'min_samples_leaf': 1, 'min_samples_split': 10, 'n_estimators': 1000}\n",
      "0.665813 (0.019760) with: {'max_depth': None, 'min_samples_leaf': 1, 'min_samples_split': 50, 'n_estimators': 10}\n",
      "0.667093 (0.015538) with: {'max_depth': None, 'min_samples_leaf': 1, 'min_samples_split': 50, 'n_estimators': 100}\n",
      "0.663252 (0.013621) with: {'max_depth': None, 'min_samples_leaf': 1, 'min_samples_split': 50, 'n_estimators': 500}\n",
      "0.663252 (0.013621) with: {'max_depth': None, 'min_samples_leaf': 1, 'min_samples_split': 50, 'n_estimators': 1000}\n",
      "0.658131 (0.011528) with: {'max_depth': None, 'min_samples_leaf': 1, 'min_samples_split': 100, 'n_estimators': 10}\n",
      "0.661972 (0.013891) with: {'max_depth': None, 'min_samples_leaf': 1, 'min_samples_split': 100, 'n_estimators': 100}\n",
      "0.658131 (0.012126) with: {'max_depth': None, 'min_samples_leaf': 1, 'min_samples_split': 100, 'n_estimators': 500}\n",
      "0.656850 (0.010738) with: {'max_depth': None, 'min_samples_leaf': 1, 'min_samples_split': 100, 'n_estimators': 1000}\n",
      "0.658131 (0.009317) with: {'max_depth': None, 'min_samples_leaf': 2, 'min_samples_split': 2, 'n_estimators': 10}\n",
      "0.651729 (0.009111) with: {'max_depth': None, 'min_samples_leaf': 2, 'min_samples_split': 2, 'n_estimators': 100}\n",
      "0.653009 (0.010862) with: {'max_depth': None, 'min_samples_leaf': 2, 'min_samples_split': 2, 'n_estimators': 500}\n",
      "0.650448 (0.009676) with: {'max_depth': None, 'min_samples_leaf': 2, 'min_samples_split': 2, 'n_estimators': 1000}\n",
      "0.659411 (0.009454) with: {'max_depth': None, 'min_samples_leaf': 2, 'min_samples_split': 5, 'n_estimators': 10}\n",
      "0.650448 (0.007393) with: {'max_depth': None, 'min_samples_leaf': 2, 'min_samples_split': 5, 'n_estimators': 100}\n",
      "0.653009 (0.008883) with: {'max_depth': None, 'min_samples_leaf': 2, 'min_samples_split': 5, 'n_estimators': 500}\n",
      "0.650448 (0.009676) with: {'max_depth': None, 'min_samples_leaf': 2, 'min_samples_split': 5, 'n_estimators': 1000}\n",
      "0.664533 (0.009413) with: {'max_depth': None, 'min_samples_leaf': 2, 'min_samples_split': 10, 'n_estimators': 10}\n",
      "0.649168 (0.007873) with: {'max_depth': None, 'min_samples_leaf': 2, 'min_samples_split': 10, 'n_estimators': 100}\n",
      "0.651729 (0.009111) with: {'max_depth': None, 'min_samples_leaf': 2, 'min_samples_split': 10, 'n_estimators': 500}\n",
      "0.650448 (0.009676) with: {'max_depth': None, 'min_samples_leaf': 2, 'min_samples_split': 10, 'n_estimators': 1000}\n",
      "0.660691 (0.008475) with: {'max_depth': None, 'min_samples_leaf': 2, 'min_samples_split': 50, 'n_estimators': 10}\n",
      "0.646607 (0.004305) with: {'max_depth': None, 'min_samples_leaf': 2, 'min_samples_split': 50, 'n_estimators': 100}\n",
      "0.650448 (0.009676) with: {'max_depth': None, 'min_samples_leaf': 2, 'min_samples_split': 50, 'n_estimators': 500}\n",
      "0.649168 (0.007873) with: {'max_depth': None, 'min_samples_leaf': 2, 'min_samples_split': 50, 'n_estimators': 1000}\n",
      "0.658131 (0.007806) with: {'max_depth': None, 'min_samples_leaf': 2, 'min_samples_split': 100, 'n_estimators': 10}\n",
      "0.647887 (0.006079) with: {'max_depth': None, 'min_samples_leaf': 2, 'min_samples_split': 100, 'n_estimators': 100}\n",
      "0.650448 (0.009676) with: {'max_depth': None, 'min_samples_leaf': 2, 'min_samples_split': 100, 'n_estimators': 500}\n",
      "0.649168 (0.007873) with: {'max_depth': None, 'min_samples_leaf': 2, 'min_samples_split': 100, 'n_estimators': 1000}\n",
      "0.640205 (0.003257) with: {'max_depth': None, 'min_samples_leaf': 5, 'min_samples_split': 2, 'n_estimators': 10}\n",
      "0.641485 (0.003071) with: {'max_depth': None, 'min_samples_leaf': 5, 'min_samples_split': 2, 'n_estimators': 100}\n",
      "0.641485 (0.003071) with: {'max_depth': None, 'min_samples_leaf': 5, 'min_samples_split': 2, 'n_estimators': 500}\n",
      "0.641485 (0.003071) with: {'max_depth': None, 'min_samples_leaf': 5, 'min_samples_split': 2, 'n_estimators': 1000}\n",
      "0.640205 (0.003257) with: {'max_depth': None, 'min_samples_leaf': 5, 'min_samples_split': 5, 'n_estimators': 10}\n",
      "0.641485 (0.003071) with: {'max_depth': None, 'min_samples_leaf': 5, 'min_samples_split': 5, 'n_estimators': 100}\n",
      "0.641485 (0.003071) with: {'max_depth': None, 'min_samples_leaf': 5, 'min_samples_split': 5, 'n_estimators': 500}\n",
      "0.641485 (0.003071) with: {'max_depth': None, 'min_samples_leaf': 5, 'min_samples_split': 5, 'n_estimators': 1000}\n",
      "0.640205 (0.003257) with: {'max_depth': None, 'min_samples_leaf': 5, 'min_samples_split': 10, 'n_estimators': 10}\n",
      "0.641485 (0.003071) with: {'max_depth': None, 'min_samples_leaf': 5, 'min_samples_split': 10, 'n_estimators': 100}\n",
      "0.641485 (0.003071) with: {'max_depth': None, 'min_samples_leaf': 5, 'min_samples_split': 10, 'n_estimators': 500}\n",
      "0.641485 (0.003071) with: {'max_depth': None, 'min_samples_leaf': 5, 'min_samples_split': 10, 'n_estimators': 1000}\n",
      "0.642766 (0.003850) with: {'max_depth': None, 'min_samples_leaf': 5, 'min_samples_split': 50, 'n_estimators': 10}\n",
      "0.641485 (0.003071) with: {'max_depth': None, 'min_samples_leaf': 5, 'min_samples_split': 50, 'n_estimators': 100}\n",
      "0.641485 (0.003071) with: {'max_depth': None, 'min_samples_leaf': 5, 'min_samples_split': 50, 'n_estimators': 500}\n",
      "0.641485 (0.003071) with: {'max_depth': None, 'min_samples_leaf': 5, 'min_samples_split': 50, 'n_estimators': 1000}\n",
      "0.641485 (0.003071) with: {'max_depth': None, 'min_samples_leaf': 5, 'min_samples_split': 100, 'n_estimators': 10}\n",
      "0.641485 (0.003071) with: {'max_depth': None, 'min_samples_leaf': 5, 'min_samples_split': 100, 'n_estimators': 100}\n",
      "0.641485 (0.003071) with: {'max_depth': None, 'min_samples_leaf': 5, 'min_samples_split': 100, 'n_estimators': 500}\n",
      "0.641485 (0.003071) with: {'max_depth': None, 'min_samples_leaf': 5, 'min_samples_split': 100, 'n_estimators': 1000}\n",
      "0.641485 (0.003071) with: {'max_depth': None, 'min_samples_leaf': 10, 'min_samples_split': 2, 'n_estimators': 10}\n",
      "0.641485 (0.003071) with: {'max_depth': None, 'min_samples_leaf': 10, 'min_samples_split': 2, 'n_estimators': 100}\n",
      "0.641485 (0.003071) with: {'max_depth': None, 'min_samples_leaf': 10, 'min_samples_split': 2, 'n_estimators': 500}\n",
      "0.641485 (0.003071) with: {'max_depth': None, 'min_samples_leaf': 10, 'min_samples_split': 2, 'n_estimators': 1000}\n",
      "0.641485 (0.003071) with: {'max_depth': None, 'min_samples_leaf': 10, 'min_samples_split': 5, 'n_estimators': 10}\n",
      "0.641485 (0.003071) with: {'max_depth': None, 'min_samples_leaf': 10, 'min_samples_split': 5, 'n_estimators': 100}\n",
      "0.641485 (0.003071) with: {'max_depth': None, 'min_samples_leaf': 10, 'min_samples_split': 5, 'n_estimators': 500}\n",
      "0.641485 (0.003071) with: {'max_depth': None, 'min_samples_leaf': 10, 'min_samples_split': 5, 'n_estimators': 1000}\n",
      "0.641485 (0.003071) with: {'max_depth': None, 'min_samples_leaf': 10, 'min_samples_split': 10, 'n_estimators': 10}\n",
      "0.641485 (0.003071) with: {'max_depth': None, 'min_samples_leaf': 10, 'min_samples_split': 10, 'n_estimators': 100}\n",
      "0.641485 (0.003071) with: {'max_depth': None, 'min_samples_leaf': 10, 'min_samples_split': 10, 'n_estimators': 500}\n",
      "0.641485 (0.003071) with: {'max_depth': None, 'min_samples_leaf': 10, 'min_samples_split': 10, 'n_estimators': 1000}\n",
      "0.641485 (0.003071) with: {'max_depth': None, 'min_samples_leaf': 10, 'min_samples_split': 50, 'n_estimators': 10}\n",
      "0.641485 (0.003071) with: {'max_depth': None, 'min_samples_leaf': 10, 'min_samples_split': 50, 'n_estimators': 100}\n",
      "0.641485 (0.003071) with: {'max_depth': None, 'min_samples_leaf': 10, 'min_samples_split': 50, 'n_estimators': 500}\n",
      "0.641485 (0.003071) with: {'max_depth': None, 'min_samples_leaf': 10, 'min_samples_split': 50, 'n_estimators': 1000}\n",
      "0.641485 (0.003071) with: {'max_depth': None, 'min_samples_leaf': 10, 'min_samples_split': 100, 'n_estimators': 10}\n",
      "0.641485 (0.003071) with: {'max_depth': None, 'min_samples_leaf': 10, 'min_samples_split': 100, 'n_estimators': 100}\n",
      "0.641485 (0.003071) with: {'max_depth': None, 'min_samples_leaf': 10, 'min_samples_split': 100, 'n_estimators': 500}\n",
      "0.641485 (0.003071) with: {'max_depth': None, 'min_samples_leaf': 10, 'min_samples_split': 100, 'n_estimators': 1000}\n",
      "0.641485 (0.003071) with: {'max_depth': 5, 'min_samples_leaf': 1, 'min_samples_split': 2, 'n_estimators': 10}\n",
      "0.641485 (0.003071) with: {'max_depth': 5, 'min_samples_leaf': 1, 'min_samples_split': 2, 'n_estimators': 100}\n",
      "0.641485 (0.003071) with: {'max_depth': 5, 'min_samples_leaf': 1, 'min_samples_split': 2, 'n_estimators': 500}\n",
      "0.641485 (0.003071) with: {'max_depth': 5, 'min_samples_leaf': 1, 'min_samples_split': 2, 'n_estimators': 1000}\n",
      "0.641485 (0.003071) with: {'max_depth': 5, 'min_samples_leaf': 1, 'min_samples_split': 5, 'n_estimators': 10}\n",
      "0.641485 (0.003071) with: {'max_depth': 5, 'min_samples_leaf': 1, 'min_samples_split': 5, 'n_estimators': 100}\n",
      "0.641485 (0.003071) with: {'max_depth': 5, 'min_samples_leaf': 1, 'min_samples_split': 5, 'n_estimators': 500}\n",
      "0.641485 (0.003071) with: {'max_depth': 5, 'min_samples_leaf': 1, 'min_samples_split': 5, 'n_estimators': 1000}\n",
      "0.641485 (0.003071) with: {'max_depth': 5, 'min_samples_leaf': 1, 'min_samples_split': 10, 'n_estimators': 10}\n",
      "0.641485 (0.003071) with: {'max_depth': 5, 'min_samples_leaf': 1, 'min_samples_split': 10, 'n_estimators': 100}\n",
      "0.641485 (0.003071) with: {'max_depth': 5, 'min_samples_leaf': 1, 'min_samples_split': 10, 'n_estimators': 500}\n",
      "0.641485 (0.003071) with: {'max_depth': 5, 'min_samples_leaf': 1, 'min_samples_split': 10, 'n_estimators': 1000}\n",
      "0.641485 (0.003071) with: {'max_depth': 5, 'min_samples_leaf': 1, 'min_samples_split': 50, 'n_estimators': 10}\n",
      "0.641485 (0.003071) with: {'max_depth': 5, 'min_samples_leaf': 1, 'min_samples_split': 50, 'n_estimators': 100}\n",
      "0.641485 (0.003071) with: {'max_depth': 5, 'min_samples_leaf': 1, 'min_samples_split': 50, 'n_estimators': 500}\n",
      "0.641485 (0.003071) with: {'max_depth': 5, 'min_samples_leaf': 1, 'min_samples_split': 50, 'n_estimators': 1000}\n",
      "0.641485 (0.003071) with: {'max_depth': 5, 'min_samples_leaf': 1, 'min_samples_split': 100, 'n_estimators': 10}\n",
      "0.641485 (0.003071) with: {'max_depth': 5, 'min_samples_leaf': 1, 'min_samples_split': 100, 'n_estimators': 100}\n",
      "0.641485 (0.003071) with: {'max_depth': 5, 'min_samples_leaf': 1, 'min_samples_split': 100, 'n_estimators': 500}\n",
      "0.641485 (0.003071) with: {'max_depth': 5, 'min_samples_leaf': 1, 'min_samples_split': 100, 'n_estimators': 1000}\n",
      "0.641485 (0.003071) with: {'max_depth': 5, 'min_samples_leaf': 2, 'min_samples_split': 2, 'n_estimators': 10}\n",
      "0.641485 (0.003071) with: {'max_depth': 5, 'min_samples_leaf': 2, 'min_samples_split': 2, 'n_estimators': 100}\n",
      "0.641485 (0.003071) with: {'max_depth': 5, 'min_samples_leaf': 2, 'min_samples_split': 2, 'n_estimators': 500}\n",
      "0.641485 (0.003071) with: {'max_depth': 5, 'min_samples_leaf': 2, 'min_samples_split': 2, 'n_estimators': 1000}\n",
      "0.641485 (0.003071) with: {'max_depth': 5, 'min_samples_leaf': 2, 'min_samples_split': 5, 'n_estimators': 10}\n",
      "0.641485 (0.003071) with: {'max_depth': 5, 'min_samples_leaf': 2, 'min_samples_split': 5, 'n_estimators': 100}\n",
      "0.641485 (0.003071) with: {'max_depth': 5, 'min_samples_leaf': 2, 'min_samples_split': 5, 'n_estimators': 500}\n",
      "0.641485 (0.003071) with: {'max_depth': 5, 'min_samples_leaf': 2, 'min_samples_split': 5, 'n_estimators': 1000}\n",
      "0.642766 (0.001492) with: {'max_depth': 5, 'min_samples_leaf': 2, 'min_samples_split': 10, 'n_estimators': 10}\n",
      "0.641485 (0.003071) with: {'max_depth': 5, 'min_samples_leaf': 2, 'min_samples_split': 10, 'n_estimators': 100}\n",
      "0.641485 (0.003071) with: {'max_depth': 5, 'min_samples_leaf': 2, 'min_samples_split': 10, 'n_estimators': 500}\n",
      "0.641485 (0.003071) with: {'max_depth': 5, 'min_samples_leaf': 2, 'min_samples_split': 10, 'n_estimators': 1000}\n",
      "0.641485 (0.003071) with: {'max_depth': 5, 'min_samples_leaf': 2, 'min_samples_split': 50, 'n_estimators': 10}\n",
      "0.641485 (0.003071) with: {'max_depth': 5, 'min_samples_leaf': 2, 'min_samples_split': 50, 'n_estimators': 100}\n",
      "0.641485 (0.003071) with: {'max_depth': 5, 'min_samples_leaf': 2, 'min_samples_split': 50, 'n_estimators': 500}\n",
      "0.641485 (0.003071) with: {'max_depth': 5, 'min_samples_leaf': 2, 'min_samples_split': 50, 'n_estimators': 1000}\n",
      "0.641485 (0.003071) with: {'max_depth': 5, 'min_samples_leaf': 2, 'min_samples_split': 100, 'n_estimators': 10}\n",
      "0.641485 (0.003071) with: {'max_depth': 5, 'min_samples_leaf': 2, 'min_samples_split': 100, 'n_estimators': 100}\n",
      "0.641485 (0.003071) with: {'max_depth': 5, 'min_samples_leaf': 2, 'min_samples_split': 100, 'n_estimators': 500}\n",
      "0.641485 (0.003071) with: {'max_depth': 5, 'min_samples_leaf': 2, 'min_samples_split': 100, 'n_estimators': 1000}\n",
      "0.640205 (0.003257) with: {'max_depth': 5, 'min_samples_leaf': 5, 'min_samples_split': 2, 'n_estimators': 10}\n",
      "0.641485 (0.003071) with: {'max_depth': 5, 'min_samples_leaf': 5, 'min_samples_split': 2, 'n_estimators': 100}\n",
      "0.641485 (0.003071) with: {'max_depth': 5, 'min_samples_leaf': 5, 'min_samples_split': 2, 'n_estimators': 500}\n",
      "0.641485 (0.003071) with: {'max_depth': 5, 'min_samples_leaf': 5, 'min_samples_split': 2, 'n_estimators': 1000}\n",
      "0.640205 (0.003257) with: {'max_depth': 5, 'min_samples_leaf': 5, 'min_samples_split': 5, 'n_estimators': 10}\n",
      "0.641485 (0.003071) with: {'max_depth': 5, 'min_samples_leaf': 5, 'min_samples_split': 5, 'n_estimators': 100}\n",
      "0.641485 (0.003071) with: {'max_depth': 5, 'min_samples_leaf': 5, 'min_samples_split': 5, 'n_estimators': 500}\n",
      "0.641485 (0.003071) with: {'max_depth': 5, 'min_samples_leaf': 5, 'min_samples_split': 5, 'n_estimators': 1000}\n",
      "0.640205 (0.003257) with: {'max_depth': 5, 'min_samples_leaf': 5, 'min_samples_split': 10, 'n_estimators': 10}\n",
      "0.641485 (0.003071) with: {'max_depth': 5, 'min_samples_leaf': 5, 'min_samples_split': 10, 'n_estimators': 100}\n",
      "0.641485 (0.003071) with: {'max_depth': 5, 'min_samples_leaf': 5, 'min_samples_split': 10, 'n_estimators': 500}\n",
      "0.641485 (0.003071) with: {'max_depth': 5, 'min_samples_leaf': 5, 'min_samples_split': 10, 'n_estimators': 1000}\n",
      "0.641485 (0.003071) with: {'max_depth': 5, 'min_samples_leaf': 5, 'min_samples_split': 50, 'n_estimators': 10}\n",
      "0.641485 (0.003071) with: {'max_depth': 5, 'min_samples_leaf': 5, 'min_samples_split': 50, 'n_estimators': 100}\n",
      "0.641485 (0.003071) with: {'max_depth': 5, 'min_samples_leaf': 5, 'min_samples_split': 50, 'n_estimators': 500}\n",
      "0.641485 (0.003071) with: {'max_depth': 5, 'min_samples_leaf': 5, 'min_samples_split': 50, 'n_estimators': 1000}\n",
      "0.642766 (0.003850) with: {'max_depth': 5, 'min_samples_leaf': 5, 'min_samples_split': 100, 'n_estimators': 10}\n",
      "0.641485 (0.003071) with: {'max_depth': 5, 'min_samples_leaf': 5, 'min_samples_split': 100, 'n_estimators': 100}\n",
      "0.641485 (0.003071) with: {'max_depth': 5, 'min_samples_leaf': 5, 'min_samples_split': 100, 'n_estimators': 500}\n",
      "0.641485 (0.003071) with: {'max_depth': 5, 'min_samples_leaf': 5, 'min_samples_split': 100, 'n_estimators': 1000}\n",
      "0.641485 (0.003071) with: {'max_depth': 5, 'min_samples_leaf': 10, 'min_samples_split': 2, 'n_estimators': 10}\n",
      "0.641485 (0.003071) with: {'max_depth': 5, 'min_samples_leaf': 10, 'min_samples_split': 2, 'n_estimators': 100}\n",
      "0.641485 (0.003071) with: {'max_depth': 5, 'min_samples_leaf': 10, 'min_samples_split': 2, 'n_estimators': 500}\n",
      "0.641485 (0.003071) with: {'max_depth': 5, 'min_samples_leaf': 10, 'min_samples_split': 2, 'n_estimators': 1000}\n",
      "0.641485 (0.003071) with: {'max_depth': 5, 'min_samples_leaf': 10, 'min_samples_split': 5, 'n_estimators': 10}\n",
      "0.641485 (0.003071) with: {'max_depth': 5, 'min_samples_leaf': 10, 'min_samples_split': 5, 'n_estimators': 100}\n",
      "0.641485 (0.003071) with: {'max_depth': 5, 'min_samples_leaf': 10, 'min_samples_split': 5, 'n_estimators': 500}\n",
      "0.641485 (0.003071) with: {'max_depth': 5, 'min_samples_leaf': 10, 'min_samples_split': 5, 'n_estimators': 1000}\n",
      "0.641485 (0.003071) with: {'max_depth': 5, 'min_samples_leaf': 10, 'min_samples_split': 10, 'n_estimators': 10}\n",
      "0.641485 (0.003071) with: {'max_depth': 5, 'min_samples_leaf': 10, 'min_samples_split': 10, 'n_estimators': 100}\n",
      "0.641485 (0.003071) with: {'max_depth': 5, 'min_samples_leaf': 10, 'min_samples_split': 10, 'n_estimators': 500}\n",
      "0.641485 (0.003071) with: {'max_depth': 5, 'min_samples_leaf': 10, 'min_samples_split': 10, 'n_estimators': 1000}\n",
      "0.641485 (0.003071) with: {'max_depth': 5, 'min_samples_leaf': 10, 'min_samples_split': 50, 'n_estimators': 10}\n",
      "0.641485 (0.003071) with: {'max_depth': 5, 'min_samples_leaf': 10, 'min_samples_split': 50, 'n_estimators': 100}\n",
      "0.641485 (0.003071) with: {'max_depth': 5, 'min_samples_leaf': 10, 'min_samples_split': 50, 'n_estimators': 500}\n",
      "0.641485 (0.003071) with: {'max_depth': 5, 'min_samples_leaf': 10, 'min_samples_split': 50, 'n_estimators': 1000}\n",
      "0.641485 (0.003071) with: {'max_depth': 5, 'min_samples_leaf': 10, 'min_samples_split': 100, 'n_estimators': 10}\n",
      "0.641485 (0.003071) with: {'max_depth': 5, 'min_samples_leaf': 10, 'min_samples_split': 100, 'n_estimators': 100}\n",
      "0.641485 (0.003071) with: {'max_depth': 5, 'min_samples_leaf': 10, 'min_samples_split': 100, 'n_estimators': 500}\n",
      "0.641485 (0.003071) with: {'max_depth': 5, 'min_samples_leaf': 10, 'min_samples_split': 100, 'n_estimators': 1000}\n",
      "0.644046 (0.006290) with: {'max_depth': 8, 'min_samples_leaf': 1, 'min_samples_split': 2, 'n_estimators': 10}\n",
      "0.641485 (0.003071) with: {'max_depth': 8, 'min_samples_leaf': 1, 'min_samples_split': 2, 'n_estimators': 100}\n",
      "0.642766 (0.004603) with: {'max_depth': 8, 'min_samples_leaf': 1, 'min_samples_split': 2, 'n_estimators': 500}\n",
      "0.641485 (0.003071) with: {'max_depth': 8, 'min_samples_leaf': 1, 'min_samples_split': 2, 'n_estimators': 1000}\n",
      "0.642766 (0.004603) with: {'max_depth': 8, 'min_samples_leaf': 1, 'min_samples_split': 5, 'n_estimators': 10}\n",
      "0.641485 (0.003071) with: {'max_depth': 8, 'min_samples_leaf': 1, 'min_samples_split': 5, 'n_estimators': 100}\n",
      "0.642766 (0.004603) with: {'max_depth': 8, 'min_samples_leaf': 1, 'min_samples_split': 5, 'n_estimators': 500}\n",
      "0.641485 (0.003071) with: {'max_depth': 8, 'min_samples_leaf': 1, 'min_samples_split': 5, 'n_estimators': 1000}\n",
      "0.642766 (0.004603) with: {'max_depth': 8, 'min_samples_leaf': 1, 'min_samples_split': 10, 'n_estimators': 10}\n",
      "0.641485 (0.003071) with: {'max_depth': 8, 'min_samples_leaf': 1, 'min_samples_split': 10, 'n_estimators': 100}\n",
      "0.642766 (0.004603) with: {'max_depth': 8, 'min_samples_leaf': 1, 'min_samples_split': 10, 'n_estimators': 500}\n",
      "0.641485 (0.003071) with: {'max_depth': 8, 'min_samples_leaf': 1, 'min_samples_split': 10, 'n_estimators': 1000}\n",
      "0.646607 (0.006873) with: {'max_depth': 8, 'min_samples_leaf': 1, 'min_samples_split': 50, 'n_estimators': 10}\n",
      "0.641485 (0.003071) with: {'max_depth': 8, 'min_samples_leaf': 1, 'min_samples_split': 50, 'n_estimators': 100}\n",
      "0.641485 (0.003071) with: {'max_depth': 8, 'min_samples_leaf': 1, 'min_samples_split': 50, 'n_estimators': 500}\n",
      "0.641485 (0.003071) with: {'max_depth': 8, 'min_samples_leaf': 1, 'min_samples_split': 50, 'n_estimators': 1000}\n",
      "0.644046 (0.004827) with: {'max_depth': 8, 'min_samples_leaf': 1, 'min_samples_split': 100, 'n_estimators': 10}\n",
      "0.641485 (0.003071) with: {'max_depth': 8, 'min_samples_leaf': 1, 'min_samples_split': 100, 'n_estimators': 100}\n",
      "0.641485 (0.003071) with: {'max_depth': 8, 'min_samples_leaf': 1, 'min_samples_split': 100, 'n_estimators': 500}\n",
      "0.641485 (0.003071) with: {'max_depth': 8, 'min_samples_leaf': 1, 'min_samples_split': 100, 'n_estimators': 1000}\n",
      "0.644046 (0.004827) with: {'max_depth': 8, 'min_samples_leaf': 2, 'min_samples_split': 2, 'n_estimators': 10}\n",
      "0.641485 (0.003071) with: {'max_depth': 8, 'min_samples_leaf': 2, 'min_samples_split': 2, 'n_estimators': 100}\n",
      "0.641485 (0.003071) with: {'max_depth': 8, 'min_samples_leaf': 2, 'min_samples_split': 2, 'n_estimators': 500}\n",
      "0.641485 (0.003071) with: {'max_depth': 8, 'min_samples_leaf': 2, 'min_samples_split': 2, 'n_estimators': 1000}\n",
      "0.644046 (0.004827) with: {'max_depth': 8, 'min_samples_leaf': 2, 'min_samples_split': 5, 'n_estimators': 10}\n",
      "0.641485 (0.003071) with: {'max_depth': 8, 'min_samples_leaf': 2, 'min_samples_split': 5, 'n_estimators': 100}\n",
      "0.641485 (0.003071) with: {'max_depth': 8, 'min_samples_leaf': 2, 'min_samples_split': 5, 'n_estimators': 500}\n",
      "0.641485 (0.003071) with: {'max_depth': 8, 'min_samples_leaf': 2, 'min_samples_split': 5, 'n_estimators': 1000}\n",
      "0.646607 (0.003866) with: {'max_depth': 8, 'min_samples_leaf': 2, 'min_samples_split': 10, 'n_estimators': 10}\n",
      "0.641485 (0.003071) with: {'max_depth': 8, 'min_samples_leaf': 2, 'min_samples_split': 10, 'n_estimators': 100}\n",
      "0.641485 (0.003071) with: {'max_depth': 8, 'min_samples_leaf': 2, 'min_samples_split': 10, 'n_estimators': 500}\n",
      "0.641485 (0.003071) with: {'max_depth': 8, 'min_samples_leaf': 2, 'min_samples_split': 10, 'n_estimators': 1000}\n",
      "0.645327 (0.005655) with: {'max_depth': 8, 'min_samples_leaf': 2, 'min_samples_split': 50, 'n_estimators': 10}\n",
      "0.641485 (0.003071) with: {'max_depth': 8, 'min_samples_leaf': 2, 'min_samples_split': 50, 'n_estimators': 100}\n",
      "0.641485 (0.003071) with: {'max_depth': 8, 'min_samples_leaf': 2, 'min_samples_split': 50, 'n_estimators': 500}\n",
      "0.641485 (0.003071) with: {'max_depth': 8, 'min_samples_leaf': 2, 'min_samples_split': 50, 'n_estimators': 1000}\n",
      "0.645327 (0.005655) with: {'max_depth': 8, 'min_samples_leaf': 2, 'min_samples_split': 100, 'n_estimators': 10}\n",
      "0.641485 (0.003071) with: {'max_depth': 8, 'min_samples_leaf': 2, 'min_samples_split': 100, 'n_estimators': 100}\n",
      "0.641485 (0.003071) with: {'max_depth': 8, 'min_samples_leaf': 2, 'min_samples_split': 100, 'n_estimators': 500}\n",
      "0.641485 (0.003071) with: {'max_depth': 8, 'min_samples_leaf': 2, 'min_samples_split': 100, 'n_estimators': 1000}\n",
      "0.641485 (0.003071) with: {'max_depth': 8, 'min_samples_leaf': 5, 'min_samples_split': 2, 'n_estimators': 10}\n",
      "0.641485 (0.003071) with: {'max_depth': 8, 'min_samples_leaf': 5, 'min_samples_split': 2, 'n_estimators': 100}\n",
      "0.641485 (0.003071) with: {'max_depth': 8, 'min_samples_leaf': 5, 'min_samples_split': 2, 'n_estimators': 500}\n",
      "0.641485 (0.003071) with: {'max_depth': 8, 'min_samples_leaf': 5, 'min_samples_split': 2, 'n_estimators': 1000}\n",
      "0.641485 (0.003071) with: {'max_depth': 8, 'min_samples_leaf': 5, 'min_samples_split': 5, 'n_estimators': 10}\n",
      "0.641485 (0.003071) with: {'max_depth': 8, 'min_samples_leaf': 5, 'min_samples_split': 5, 'n_estimators': 100}\n",
      "0.641485 (0.003071) with: {'max_depth': 8, 'min_samples_leaf': 5, 'min_samples_split': 5, 'n_estimators': 500}\n",
      "0.641485 (0.003071) with: {'max_depth': 8, 'min_samples_leaf': 5, 'min_samples_split': 5, 'n_estimators': 1000}\n",
      "0.641485 (0.003071) with: {'max_depth': 8, 'min_samples_leaf': 5, 'min_samples_split': 10, 'n_estimators': 10}\n",
      "0.641485 (0.003071) with: {'max_depth': 8, 'min_samples_leaf': 5, 'min_samples_split': 10, 'n_estimators': 100}\n",
      "0.641485 (0.003071) with: {'max_depth': 8, 'min_samples_leaf': 5, 'min_samples_split': 10, 'n_estimators': 500}\n",
      "0.641485 (0.003071) with: {'max_depth': 8, 'min_samples_leaf': 5, 'min_samples_split': 10, 'n_estimators': 1000}\n",
      "0.641485 (0.003071) with: {'max_depth': 8, 'min_samples_leaf': 5, 'min_samples_split': 50, 'n_estimators': 10}\n",
      "0.641485 (0.003071) with: {'max_depth': 8, 'min_samples_leaf': 5, 'min_samples_split': 50, 'n_estimators': 100}\n",
      "0.641485 (0.003071) with: {'max_depth': 8, 'min_samples_leaf': 5, 'min_samples_split': 50, 'n_estimators': 500}\n",
      "0.641485 (0.003071) with: {'max_depth': 8, 'min_samples_leaf': 5, 'min_samples_split': 50, 'n_estimators': 1000}\n",
      "0.641485 (0.003071) with: {'max_depth': 8, 'min_samples_leaf': 5, 'min_samples_split': 100, 'n_estimators': 10}\n",
      "0.641485 (0.003071) with: {'max_depth': 8, 'min_samples_leaf': 5, 'min_samples_split': 100, 'n_estimators': 100}\n",
      "0.641485 (0.003071) with: {'max_depth': 8, 'min_samples_leaf': 5, 'min_samples_split': 100, 'n_estimators': 500}\n",
      "0.641485 (0.003071) with: {'max_depth': 8, 'min_samples_leaf': 5, 'min_samples_split': 100, 'n_estimators': 1000}\n",
      "0.641485 (0.003071) with: {'max_depth': 8, 'min_samples_leaf': 10, 'min_samples_split': 2, 'n_estimators': 10}\n",
      "0.641485 (0.003071) with: {'max_depth': 8, 'min_samples_leaf': 10, 'min_samples_split': 2, 'n_estimators': 100}\n",
      "0.641485 (0.003071) with: {'max_depth': 8, 'min_samples_leaf': 10, 'min_samples_split': 2, 'n_estimators': 500}\n",
      "0.641485 (0.003071) with: {'max_depth': 8, 'min_samples_leaf': 10, 'min_samples_split': 2, 'n_estimators': 1000}\n",
      "0.641485 (0.003071) with: {'max_depth': 8, 'min_samples_leaf': 10, 'min_samples_split': 5, 'n_estimators': 10}\n",
      "0.641485 (0.003071) with: {'max_depth': 8, 'min_samples_leaf': 10, 'min_samples_split': 5, 'n_estimators': 100}\n",
      "0.641485 (0.003071) with: {'max_depth': 8, 'min_samples_leaf': 10, 'min_samples_split': 5, 'n_estimators': 500}\n",
      "0.641485 (0.003071) with: {'max_depth': 8, 'min_samples_leaf': 10, 'min_samples_split': 5, 'n_estimators': 1000}\n",
      "0.641485 (0.003071) with: {'max_depth': 8, 'min_samples_leaf': 10, 'min_samples_split': 10, 'n_estimators': 10}\n",
      "0.641485 (0.003071) with: {'max_depth': 8, 'min_samples_leaf': 10, 'min_samples_split': 10, 'n_estimators': 100}\n",
      "0.641485 (0.003071) with: {'max_depth': 8, 'min_samples_leaf': 10, 'min_samples_split': 10, 'n_estimators': 500}\n",
      "0.641485 (0.003071) with: {'max_depth': 8, 'min_samples_leaf': 10, 'min_samples_split': 10, 'n_estimators': 1000}\n",
      "0.641485 (0.003071) with: {'max_depth': 8, 'min_samples_leaf': 10, 'min_samples_split': 50, 'n_estimators': 10}\n",
      "0.641485 (0.003071) with: {'max_depth': 8, 'min_samples_leaf': 10, 'min_samples_split': 50, 'n_estimators': 100}\n",
      "0.641485 (0.003071) with: {'max_depth': 8, 'min_samples_leaf': 10, 'min_samples_split': 50, 'n_estimators': 500}\n",
      "0.641485 (0.003071) with: {'max_depth': 8, 'min_samples_leaf': 10, 'min_samples_split': 50, 'n_estimators': 1000}\n",
      "0.641485 (0.003071) with: {'max_depth': 8, 'min_samples_leaf': 10, 'min_samples_split': 100, 'n_estimators': 10}\n",
      "0.641485 (0.003071) with: {'max_depth': 8, 'min_samples_leaf': 10, 'min_samples_split': 100, 'n_estimators': 100}\n",
      "0.641485 (0.003071) with: {'max_depth': 8, 'min_samples_leaf': 10, 'min_samples_split': 100, 'n_estimators': 500}\n",
      "0.641485 (0.003071) with: {'max_depth': 8, 'min_samples_leaf': 10, 'min_samples_split': 100, 'n_estimators': 1000}\n",
      "0.644046 (0.008692) with: {'max_depth': 15, 'min_samples_leaf': 1, 'min_samples_split': 2, 'n_estimators': 10}\n",
      "0.651729 (0.009111) with: {'max_depth': 15, 'min_samples_leaf': 1, 'min_samples_split': 2, 'n_estimators': 100}\n",
      "0.649168 (0.007873) with: {'max_depth': 15, 'min_samples_leaf': 1, 'min_samples_split': 2, 'n_estimators': 500}\n",
      "0.650448 (0.009676) with: {'max_depth': 15, 'min_samples_leaf': 1, 'min_samples_split': 2, 'n_estimators': 1000}\n",
      "0.653009 (0.010537) with: {'max_depth': 15, 'min_samples_leaf': 1, 'min_samples_split': 5, 'n_estimators': 10}\n",
      "0.649168 (0.007873) with: {'max_depth': 15, 'min_samples_leaf': 1, 'min_samples_split': 5, 'n_estimators': 100}\n",
      "0.646607 (0.006892) with: {'max_depth': 15, 'min_samples_leaf': 1, 'min_samples_split': 5, 'n_estimators': 500}\n",
      "0.647887 (0.006079) with: {'max_depth': 15, 'min_samples_leaf': 1, 'min_samples_split': 5, 'n_estimators': 1000}\n",
      "0.651729 (0.008721) with: {'max_depth': 15, 'min_samples_leaf': 1, 'min_samples_split': 10, 'n_estimators': 10}\n",
      "0.647887 (0.006079) with: {'max_depth': 15, 'min_samples_leaf': 1, 'min_samples_split': 10, 'n_estimators': 100}\n",
      "0.646607 (0.006892) with: {'max_depth': 15, 'min_samples_leaf': 1, 'min_samples_split': 10, 'n_estimators': 500}\n",
      "0.647887 (0.006079) with: {'max_depth': 15, 'min_samples_leaf': 1, 'min_samples_split': 10, 'n_estimators': 1000}\n",
      "0.649168 (0.005094) with: {'max_depth': 15, 'min_samples_leaf': 1, 'min_samples_split': 50, 'n_estimators': 10}\n",
      "0.645327 (0.005079) with: {'max_depth': 15, 'min_samples_leaf': 1, 'min_samples_split': 50, 'n_estimators': 100}\n",
      "0.646607 (0.006892) with: {'max_depth': 15, 'min_samples_leaf': 1, 'min_samples_split': 50, 'n_estimators': 500}\n",
      "0.646607 (0.006892) with: {'max_depth': 15, 'min_samples_leaf': 1, 'min_samples_split': 50, 'n_estimators': 1000}\n",
      "0.647887 (0.006307) with: {'max_depth': 15, 'min_samples_leaf': 1, 'min_samples_split': 100, 'n_estimators': 10}\n",
      "0.645327 (0.002593) with: {'max_depth': 15, 'min_samples_leaf': 1, 'min_samples_split': 100, 'n_estimators': 100}\n",
      "0.646607 (0.006892) with: {'max_depth': 15, 'min_samples_leaf': 1, 'min_samples_split': 100, 'n_estimators': 500}\n",
      "0.646607 (0.006892) with: {'max_depth': 15, 'min_samples_leaf': 1, 'min_samples_split': 100, 'n_estimators': 1000}\n",
      "0.650448 (0.001526) with: {'max_depth': 15, 'min_samples_leaf': 2, 'min_samples_split': 2, 'n_estimators': 10}\n",
      "0.645327 (0.008033) with: {'max_depth': 15, 'min_samples_leaf': 2, 'min_samples_split': 2, 'n_estimators': 100}\n",
      "0.646607 (0.006892) with: {'max_depth': 15, 'min_samples_leaf': 2, 'min_samples_split': 2, 'n_estimators': 500}\n",
      "0.646607 (0.006892) with: {'max_depth': 15, 'min_samples_leaf': 2, 'min_samples_split': 2, 'n_estimators': 1000}\n",
      "0.650448 (0.001526) with: {'max_depth': 15, 'min_samples_leaf': 2, 'min_samples_split': 5, 'n_estimators': 10}\n",
      "0.646607 (0.006892) with: {'max_depth': 15, 'min_samples_leaf': 2, 'min_samples_split': 5, 'n_estimators': 100}\n",
      "0.647887 (0.006079) with: {'max_depth': 15, 'min_samples_leaf': 2, 'min_samples_split': 5, 'n_estimators': 500}\n",
      "0.647887 (0.006079) with: {'max_depth': 15, 'min_samples_leaf': 2, 'min_samples_split': 5, 'n_estimators': 1000}\n",
      "0.649168 (0.000594) with: {'max_depth': 15, 'min_samples_leaf': 2, 'min_samples_split': 10, 'n_estimators': 10}\n",
      "0.646607 (0.006892) with: {'max_depth': 15, 'min_samples_leaf': 2, 'min_samples_split': 10, 'n_estimators': 100}\n",
      "0.646607 (0.006892) with: {'max_depth': 15, 'min_samples_leaf': 2, 'min_samples_split': 10, 'n_estimators': 500}\n",
      "0.646607 (0.006892) with: {'max_depth': 15, 'min_samples_leaf': 2, 'min_samples_split': 10, 'n_estimators': 1000}\n",
      "0.653009 (0.003630) with: {'max_depth': 15, 'min_samples_leaf': 2, 'min_samples_split': 50, 'n_estimators': 10}\n",
      "0.644046 (0.006290) with: {'max_depth': 15, 'min_samples_leaf': 2, 'min_samples_split': 50, 'n_estimators': 100}\n",
      "0.645327 (0.008033) with: {'max_depth': 15, 'min_samples_leaf': 2, 'min_samples_split': 50, 'n_estimators': 500}\n",
      "0.646607 (0.006892) with: {'max_depth': 15, 'min_samples_leaf': 2, 'min_samples_split': 50, 'n_estimators': 1000}\n",
      "0.650448 (0.001526) with: {'max_depth': 15, 'min_samples_leaf': 2, 'min_samples_split': 100, 'n_estimators': 10}\n",
      "0.644046 (0.006290) with: {'max_depth': 15, 'min_samples_leaf': 2, 'min_samples_split': 100, 'n_estimators': 100}\n",
      "0.645327 (0.008033) with: {'max_depth': 15, 'min_samples_leaf': 2, 'min_samples_split': 100, 'n_estimators': 500}\n",
      "0.645327 (0.008033) with: {'max_depth': 15, 'min_samples_leaf': 2, 'min_samples_split': 100, 'n_estimators': 1000}\n",
      "0.640205 (0.003257) with: {'max_depth': 15, 'min_samples_leaf': 5, 'min_samples_split': 2, 'n_estimators': 10}\n",
      "0.641485 (0.003071) with: {'max_depth': 15, 'min_samples_leaf': 5, 'min_samples_split': 2, 'n_estimators': 100}\n",
      "0.641485 (0.003071) with: {'max_depth': 15, 'min_samples_leaf': 5, 'min_samples_split': 2, 'n_estimators': 500}\n",
      "0.641485 (0.003071) with: {'max_depth': 15, 'min_samples_leaf': 5, 'min_samples_split': 2, 'n_estimators': 1000}\n",
      "0.640205 (0.003257) with: {'max_depth': 15, 'min_samples_leaf': 5, 'min_samples_split': 5, 'n_estimators': 10}\n",
      "0.641485 (0.003071) with: {'max_depth': 15, 'min_samples_leaf': 5, 'min_samples_split': 5, 'n_estimators': 100}\n",
      "0.641485 (0.003071) with: {'max_depth': 15, 'min_samples_leaf': 5, 'min_samples_split': 5, 'n_estimators': 500}\n",
      "0.641485 (0.003071) with: {'max_depth': 15, 'min_samples_leaf': 5, 'min_samples_split': 5, 'n_estimators': 1000}\n",
      "0.640205 (0.003257) with: {'max_depth': 15, 'min_samples_leaf': 5, 'min_samples_split': 10, 'n_estimators': 10}\n",
      "0.641485 (0.003071) with: {'max_depth': 15, 'min_samples_leaf': 5, 'min_samples_split': 10, 'n_estimators': 100}\n",
      "0.641485 (0.003071) with: {'max_depth': 15, 'min_samples_leaf': 5, 'min_samples_split': 10, 'n_estimators': 500}\n",
      "0.641485 (0.003071) with: {'max_depth': 15, 'min_samples_leaf': 5, 'min_samples_split': 10, 'n_estimators': 1000}\n",
      "0.642766 (0.003850) with: {'max_depth': 15, 'min_samples_leaf': 5, 'min_samples_split': 50, 'n_estimators': 10}\n",
      "0.641485 (0.003071) with: {'max_depth': 15, 'min_samples_leaf': 5, 'min_samples_split': 50, 'n_estimators': 100}\n",
      "0.641485 (0.003071) with: {'max_depth': 15, 'min_samples_leaf': 5, 'min_samples_split': 50, 'n_estimators': 500}\n",
      "0.641485 (0.003071) with: {'max_depth': 15, 'min_samples_leaf': 5, 'min_samples_split': 50, 'n_estimators': 1000}\n",
      "0.641485 (0.003071) with: {'max_depth': 15, 'min_samples_leaf': 5, 'min_samples_split': 100, 'n_estimators': 10}\n",
      "0.641485 (0.003071) with: {'max_depth': 15, 'min_samples_leaf': 5, 'min_samples_split': 100, 'n_estimators': 100}\n",
      "0.641485 (0.003071) with: {'max_depth': 15, 'min_samples_leaf': 5, 'min_samples_split': 100, 'n_estimators': 500}\n",
      "0.641485 (0.003071) with: {'max_depth': 15, 'min_samples_leaf': 5, 'min_samples_split': 100, 'n_estimators': 1000}\n",
      "0.641485 (0.003071) with: {'max_depth': 15, 'min_samples_leaf': 10, 'min_samples_split': 2, 'n_estimators': 10}\n",
      "0.641485 (0.003071) with: {'max_depth': 15, 'min_samples_leaf': 10, 'min_samples_split': 2, 'n_estimators': 100}\n",
      "0.641485 (0.003071) with: {'max_depth': 15, 'min_samples_leaf': 10, 'min_samples_split': 2, 'n_estimators': 500}\n",
      "0.641485 (0.003071) with: {'max_depth': 15, 'min_samples_leaf': 10, 'min_samples_split': 2, 'n_estimators': 1000}\n",
      "0.641485 (0.003071) with: {'max_depth': 15, 'min_samples_leaf': 10, 'min_samples_split': 5, 'n_estimators': 10}\n",
      "0.641485 (0.003071) with: {'max_depth': 15, 'min_samples_leaf': 10, 'min_samples_split': 5, 'n_estimators': 100}\n",
      "0.641485 (0.003071) with: {'max_depth': 15, 'min_samples_leaf': 10, 'min_samples_split': 5, 'n_estimators': 500}\n",
      "0.641485 (0.003071) with: {'max_depth': 15, 'min_samples_leaf': 10, 'min_samples_split': 5, 'n_estimators': 1000}\n",
      "0.641485 (0.003071) with: {'max_depth': 15, 'min_samples_leaf': 10, 'min_samples_split': 10, 'n_estimators': 10}\n",
      "0.641485 (0.003071) with: {'max_depth': 15, 'min_samples_leaf': 10, 'min_samples_split': 10, 'n_estimators': 100}\n",
      "0.641485 (0.003071) with: {'max_depth': 15, 'min_samples_leaf': 10, 'min_samples_split': 10, 'n_estimators': 500}\n",
      "0.641485 (0.003071) with: {'max_depth': 15, 'min_samples_leaf': 10, 'min_samples_split': 10, 'n_estimators': 1000}\n",
      "0.641485 (0.003071) with: {'max_depth': 15, 'min_samples_leaf': 10, 'min_samples_split': 50, 'n_estimators': 10}\n",
      "0.641485 (0.003071) with: {'max_depth': 15, 'min_samples_leaf': 10, 'min_samples_split': 50, 'n_estimators': 100}\n",
      "0.641485 (0.003071) with: {'max_depth': 15, 'min_samples_leaf': 10, 'min_samples_split': 50, 'n_estimators': 500}\n",
      "0.641485 (0.003071) with: {'max_depth': 15, 'min_samples_leaf': 10, 'min_samples_split': 50, 'n_estimators': 1000}\n",
      "0.641485 (0.003071) with: {'max_depth': 15, 'min_samples_leaf': 10, 'min_samples_split': 100, 'n_estimators': 10}\n",
      "0.641485 (0.003071) with: {'max_depth': 15, 'min_samples_leaf': 10, 'min_samples_split': 100, 'n_estimators': 100}\n",
      "0.641485 (0.003071) with: {'max_depth': 15, 'min_samples_leaf': 10, 'min_samples_split': 100, 'n_estimators': 500}\n",
      "0.641485 (0.003071) with: {'max_depth': 15, 'min_samples_leaf': 10, 'min_samples_split': 100, 'n_estimators': 1000}\n",
      "0.659411 (0.005286) with: {'max_depth': 30, 'min_samples_leaf': 1, 'min_samples_split': 2, 'n_estimators': 10}\n",
      "0.672215 (0.013959) with: {'max_depth': 30, 'min_samples_leaf': 1, 'min_samples_split': 2, 'n_estimators': 100}\n",
      "0.670935 (0.011547) with: {'max_depth': 30, 'min_samples_leaf': 1, 'min_samples_split': 2, 'n_estimators': 500}\n",
      "0.664533 (0.010894) with: {'max_depth': 30, 'min_samples_leaf': 1, 'min_samples_split': 2, 'n_estimators': 1000}\n",
      "0.667093 (0.014187) with: {'max_depth': 30, 'min_samples_leaf': 1, 'min_samples_split': 5, 'n_estimators': 10}\n",
      "0.664533 (0.010741) with: {'max_depth': 30, 'min_samples_leaf': 1, 'min_samples_split': 5, 'n_estimators': 100}\n",
      "0.664533 (0.012042) with: {'max_depth': 30, 'min_samples_leaf': 1, 'min_samples_split': 5, 'n_estimators': 500}\n",
      "0.665813 (0.016797) with: {'max_depth': 30, 'min_samples_leaf': 1, 'min_samples_split': 5, 'n_estimators': 1000}\n",
      "0.655570 (0.004882) with: {'max_depth': 30, 'min_samples_leaf': 1, 'min_samples_split': 10, 'n_estimators': 10}\n",
      "0.661972 (0.011282) with: {'max_depth': 30, 'min_samples_leaf': 1, 'min_samples_split': 10, 'n_estimators': 100}\n",
      "0.658131 (0.009019) with: {'max_depth': 30, 'min_samples_leaf': 1, 'min_samples_split': 10, 'n_estimators': 500}\n",
      "0.659411 (0.007345) with: {'max_depth': 30, 'min_samples_leaf': 1, 'min_samples_split': 10, 'n_estimators': 1000}\n",
      "0.651729 (0.004864) with: {'max_depth': 30, 'min_samples_leaf': 1, 'min_samples_split': 50, 'n_estimators': 10}\n",
      "0.659411 (0.009496) with: {'max_depth': 30, 'min_samples_leaf': 1, 'min_samples_split': 50, 'n_estimators': 100}\n",
      "0.655570 (0.009496) with: {'max_depth': 30, 'min_samples_leaf': 1, 'min_samples_split': 50, 'n_estimators': 500}\n",
      "0.656850 (0.010738) with: {'max_depth': 30, 'min_samples_leaf': 1, 'min_samples_split': 50, 'n_estimators': 1000}\n",
      "0.655570 (0.007924) with: {'max_depth': 30, 'min_samples_leaf': 1, 'min_samples_split': 100, 'n_estimators': 10}\n",
      "0.656850 (0.010273) with: {'max_depth': 30, 'min_samples_leaf': 1, 'min_samples_split': 100, 'n_estimators': 100}\n",
      "0.654289 (0.009016) with: {'max_depth': 30, 'min_samples_leaf': 1, 'min_samples_split': 100, 'n_estimators': 500}\n",
      "0.654289 (0.011288) with: {'max_depth': 30, 'min_samples_leaf': 1, 'min_samples_split': 100, 'n_estimators': 1000}\n",
      "0.656850 (0.008457) with: {'max_depth': 30, 'min_samples_leaf': 2, 'min_samples_split': 2, 'n_estimators': 10}\n",
      "0.651729 (0.011483) with: {'max_depth': 30, 'min_samples_leaf': 2, 'min_samples_split': 2, 'n_estimators': 100}\n",
      "0.653009 (0.010862) with: {'max_depth': 30, 'min_samples_leaf': 2, 'min_samples_split': 2, 'n_estimators': 500}\n",
      "0.651729 (0.009111) with: {'max_depth': 30, 'min_samples_leaf': 2, 'min_samples_split': 2, 'n_estimators': 1000}\n",
      "0.660691 (0.009395) with: {'max_depth': 30, 'min_samples_leaf': 2, 'min_samples_split': 5, 'n_estimators': 10}\n",
      "0.649168 (0.005736) with: {'max_depth': 30, 'min_samples_leaf': 2, 'min_samples_split': 5, 'n_estimators': 100}\n",
      "0.651729 (0.009111) with: {'max_depth': 30, 'min_samples_leaf': 2, 'min_samples_split': 5, 'n_estimators': 500}\n",
      "0.649168 (0.007873) with: {'max_depth': 30, 'min_samples_leaf': 2, 'min_samples_split': 5, 'n_estimators': 1000}\n",
      "0.664533 (0.009413) with: {'max_depth': 30, 'min_samples_leaf': 2, 'min_samples_split': 10, 'n_estimators': 10}\n",
      "0.649168 (0.007873) with: {'max_depth': 30, 'min_samples_leaf': 2, 'min_samples_split': 10, 'n_estimators': 100}\n",
      "0.650448 (0.009676) with: {'max_depth': 30, 'min_samples_leaf': 2, 'min_samples_split': 10, 'n_estimators': 500}\n",
      "0.650448 (0.009676) with: {'max_depth': 30, 'min_samples_leaf': 2, 'min_samples_split': 10, 'n_estimators': 1000}\n",
      "0.659411 (0.007519) with: {'max_depth': 30, 'min_samples_leaf': 2, 'min_samples_split': 50, 'n_estimators': 10}\n",
      "0.647887 (0.006079) with: {'max_depth': 30, 'min_samples_leaf': 2, 'min_samples_split': 50, 'n_estimators': 100}\n",
      "0.650448 (0.009676) with: {'max_depth': 30, 'min_samples_leaf': 2, 'min_samples_split': 50, 'n_estimators': 500}\n",
      "0.649168 (0.007873) with: {'max_depth': 30, 'min_samples_leaf': 2, 'min_samples_split': 50, 'n_estimators': 1000}\n",
      "0.658131 (0.007806) with: {'max_depth': 30, 'min_samples_leaf': 2, 'min_samples_split': 100, 'n_estimators': 10}\n",
      "0.647887 (0.006079) with: {'max_depth': 30, 'min_samples_leaf': 2, 'min_samples_split': 100, 'n_estimators': 100}\n",
      "0.650448 (0.009676) with: {'max_depth': 30, 'min_samples_leaf': 2, 'min_samples_split': 100, 'n_estimators': 500}\n",
      "0.649168 (0.007873) with: {'max_depth': 30, 'min_samples_leaf': 2, 'min_samples_split': 100, 'n_estimators': 1000}\n",
      "0.640205 (0.003257) with: {'max_depth': 30, 'min_samples_leaf': 5, 'min_samples_split': 2, 'n_estimators': 10}\n",
      "0.641485 (0.003071) with: {'max_depth': 30, 'min_samples_leaf': 5, 'min_samples_split': 2, 'n_estimators': 100}\n",
      "0.641485 (0.003071) with: {'max_depth': 30, 'min_samples_leaf': 5, 'min_samples_split': 2, 'n_estimators': 500}\n",
      "0.641485 (0.003071) with: {'max_depth': 30, 'min_samples_leaf': 5, 'min_samples_split': 2, 'n_estimators': 1000}\n",
      "0.640205 (0.003257) with: {'max_depth': 30, 'min_samples_leaf': 5, 'min_samples_split': 5, 'n_estimators': 10}\n",
      "0.641485 (0.003071) with: {'max_depth': 30, 'min_samples_leaf': 5, 'min_samples_split': 5, 'n_estimators': 100}\n",
      "0.641485 (0.003071) with: {'max_depth': 30, 'min_samples_leaf': 5, 'min_samples_split': 5, 'n_estimators': 500}\n",
      "0.641485 (0.003071) with: {'max_depth': 30, 'min_samples_leaf': 5, 'min_samples_split': 5, 'n_estimators': 1000}\n",
      "0.640205 (0.003257) with: {'max_depth': 30, 'min_samples_leaf': 5, 'min_samples_split': 10, 'n_estimators': 10}\n",
      "0.641485 (0.003071) with: {'max_depth': 30, 'min_samples_leaf': 5, 'min_samples_split': 10, 'n_estimators': 100}\n",
      "0.641485 (0.003071) with: {'max_depth': 30, 'min_samples_leaf': 5, 'min_samples_split': 10, 'n_estimators': 500}\n",
      "0.641485 (0.003071) with: {'max_depth': 30, 'min_samples_leaf': 5, 'min_samples_split': 10, 'n_estimators': 1000}\n",
      "0.642766 (0.003850) with: {'max_depth': 30, 'min_samples_leaf': 5, 'min_samples_split': 50, 'n_estimators': 10}\n",
      "0.641485 (0.003071) with: {'max_depth': 30, 'min_samples_leaf': 5, 'min_samples_split': 50, 'n_estimators': 100}\n",
      "0.641485 (0.003071) with: {'max_depth': 30, 'min_samples_leaf': 5, 'min_samples_split': 50, 'n_estimators': 500}\n",
      "0.641485 (0.003071) with: {'max_depth': 30, 'min_samples_leaf': 5, 'min_samples_split': 50, 'n_estimators': 1000}\n",
      "0.641485 (0.003071) with: {'max_depth': 30, 'min_samples_leaf': 5, 'min_samples_split': 100, 'n_estimators': 10}\n",
      "0.641485 (0.003071) with: {'max_depth': 30, 'min_samples_leaf': 5, 'min_samples_split': 100, 'n_estimators': 100}\n",
      "0.641485 (0.003071) with: {'max_depth': 30, 'min_samples_leaf': 5, 'min_samples_split': 100, 'n_estimators': 500}\n",
      "0.641485 (0.003071) with: {'max_depth': 30, 'min_samples_leaf': 5, 'min_samples_split': 100, 'n_estimators': 1000}\n",
      "0.641485 (0.003071) with: {'max_depth': 30, 'min_samples_leaf': 10, 'min_samples_split': 2, 'n_estimators': 10}\n",
      "0.641485 (0.003071) with: {'max_depth': 30, 'min_samples_leaf': 10, 'min_samples_split': 2, 'n_estimators': 100}\n",
      "0.641485 (0.003071) with: {'max_depth': 30, 'min_samples_leaf': 10, 'min_samples_split': 2, 'n_estimators': 500}\n",
      "0.641485 (0.003071) with: {'max_depth': 30, 'min_samples_leaf': 10, 'min_samples_split': 2, 'n_estimators': 1000}\n",
      "0.641485 (0.003071) with: {'max_depth': 30, 'min_samples_leaf': 10, 'min_samples_split': 5, 'n_estimators': 10}\n",
      "0.641485 (0.003071) with: {'max_depth': 30, 'min_samples_leaf': 10, 'min_samples_split': 5, 'n_estimators': 100}\n",
      "0.641485 (0.003071) with: {'max_depth': 30, 'min_samples_leaf': 10, 'min_samples_split': 5, 'n_estimators': 500}\n",
      "0.641485 (0.003071) with: {'max_depth': 30, 'min_samples_leaf': 10, 'min_samples_split': 5, 'n_estimators': 1000}\n",
      "0.641485 (0.003071) with: {'max_depth': 30, 'min_samples_leaf': 10, 'min_samples_split': 10, 'n_estimators': 10}\n",
      "0.641485 (0.003071) with: {'max_depth': 30, 'min_samples_leaf': 10, 'min_samples_split': 10, 'n_estimators': 100}\n",
      "0.641485 (0.003071) with: {'max_depth': 30, 'min_samples_leaf': 10, 'min_samples_split': 10, 'n_estimators': 500}\n",
      "0.641485 (0.003071) with: {'max_depth': 30, 'min_samples_leaf': 10, 'min_samples_split': 10, 'n_estimators': 1000}\n",
      "0.641485 (0.003071) with: {'max_depth': 30, 'min_samples_leaf': 10, 'min_samples_split': 50, 'n_estimators': 10}\n",
      "0.641485 (0.003071) with: {'max_depth': 30, 'min_samples_leaf': 10, 'min_samples_split': 50, 'n_estimators': 100}\n",
      "0.641485 (0.003071) with: {'max_depth': 30, 'min_samples_leaf': 10, 'min_samples_split': 50, 'n_estimators': 500}\n",
      "0.641485 (0.003071) with: {'max_depth': 30, 'min_samples_leaf': 10, 'min_samples_split': 50, 'n_estimators': 1000}\n",
      "0.641485 (0.003071) with: {'max_depth': 30, 'min_samples_leaf': 10, 'min_samples_split': 100, 'n_estimators': 10}\n",
      "0.641485 (0.003071) with: {'max_depth': 30, 'min_samples_leaf': 10, 'min_samples_split': 100, 'n_estimators': 100}\n",
      "0.641485 (0.003071) with: {'max_depth': 30, 'min_samples_leaf': 10, 'min_samples_split': 100, 'n_estimators': 500}\n",
      "0.641485 (0.003071) with: {'max_depth': 30, 'min_samples_leaf': 10, 'min_samples_split': 100, 'n_estimators': 1000}\n"
     ]
    }
   ],
   "source": [
    "#tuning parameters\n",
    "from sklearn.model_selection import GridSearchCV\n",
    "n_estimators_range=[10,100,500,1000]\n",
    "max_depth_range=[None,5,8,15,30]\n",
    "min_samples_split_range=[2,5,10,50,100]\n",
    "min_samples_leaf_range=[1,2,5,10]\n",
    "param_grid = dict(n_estimators=n_estimators_range, max_depth=max_depth_range, min_samples_leaf=min_samples_leaf_range, min_samples_split=min_samples_split_range)\n",
    "grid = GridSearchCV(estimator=RFclassifier, param_grid=param_grid, n_jobs=-1)\n",
    "grid_result = grid.fit(x,y)\n",
    "print(\"Best: %f using %s\" % (grid_result.best_score_, grid_result.best_params_))\n",
    "means = grid_result.cv_results_['mean_test_score']\n",
    "stds = grid_result.cv_results_['std_test_score']\n",
    "params = grid_result.cv_results_['params']\n",
    "for mean, stdev, param in zip(means, stds, params):\n",
    "    print(\"%f (%f) with: %r\" % (mean, stdev, param))"
   ]
  },
  {
   "cell_type": "markdown",
   "metadata": {},
   "source": [
    "So we got the best parameters are max_depth:None, min_samples_leaf:1, min_samples_split:10 and n_estimators:100. And we can use these to get a new RF model with these parameters."
   ]
  },
  {
   "cell_type": "code",
   "execution_count": 12,
   "metadata": {},
   "outputs": [],
   "source": [
    "#predicting the test set result\n",
    "RFclassifier=RandomForestClassifier(min_samples_leaf=1,min_samples_split=10,n_estimators=100,max_depth=None,random_state=1000)\n",
    "RFclassifier.fit(x_train,y_train)\n",
    "y_pred=RFclassifier.predict(x_test)"
   ]
  },
  {
   "cell_type": "code",
   "execution_count": 13,
   "metadata": {},
   "outputs": [
    {
     "name": "stdout",
     "output_type": "stream",
     "text": [
      "[[ 11   0   0   0  14]\n",
      " [  2   0   1   0  10]\n",
      " [  0   0   0   2  10]\n",
      " [  0   0   1   0  32]\n",
      " [  1   0   1   0 111]]\n"
     ]
    }
   ],
   "source": [
    "#making the Confusion Matrix\n",
    "from sklearn.metrics import confusion_matrix\n",
    "RFcm=confusion_matrix(y_test,y_pred)\n",
    "print(RFcm)"
   ]
  },
  {
   "cell_type": "code",
   "execution_count": 14,
   "metadata": {},
   "outputs": [
    {
     "name": "stdout",
     "output_type": "stream",
     "text": [
      "0.6224489795918368\n"
     ]
    }
   ],
   "source": [
    "#AUC of RandomForest\n",
    "RFaccuracy=RFcm.trace()/RFcm.sum()\n",
    "print(RFaccuracy)"
   ]
  },
  {
   "cell_type": "markdown",
   "metadata": {},
   "source": [
    "Logistic Regression Algorithm"
   ]
  },
  {
   "cell_type": "code",
   "execution_count": 15,
   "metadata": {
    "scrolled": true
   },
   "outputs": [
    {
     "data": {
      "text/plain": [
       "LogisticRegression(C=1.0, class_weight=None, dual=False, fit_intercept=True,\n",
       "          intercept_scaling=1, max_iter=100, multi_class='ovr', n_jobs=1,\n",
       "          penalty='l2', random_state=0, solver='liblinear', tol=0.0001,\n",
       "          verbose=0, warm_start=False)"
      ]
     },
     "execution_count": 15,
     "metadata": {},
     "output_type": "execute_result"
    }
   ],
   "source": [
    "from sklearn.linear_model import LogisticRegression     \n",
    "LRclassifier=LogisticRegression(random_state=0)\n",
    "LRclassifier.fit(x_train,y_train)"
   ]
  },
  {
   "cell_type": "code",
   "execution_count": 16,
   "metadata": {
    "scrolled": true
   },
   "outputs": [
    {
     "name": "stdout",
     "output_type": "stream",
     "text": [
      "Best: 0.686300 using {'C': 1, 'penalty': 'l1'}\n",
      "0.093470 (0.001393) with: {'C': 0.001, 'penalty': 'l1'}\n",
      "0.641485 (0.003071) with: {'C': 0.001, 'penalty': 'l2'}\n",
      "0.641485 (0.003071) with: {'C': 0.1, 'penalty': 'l1'}\n",
      "0.673496 (0.009736) with: {'C': 0.1, 'penalty': 'l2'}\n",
      "0.686300 (0.012694) with: {'C': 1, 'penalty': 'l1'}\n",
      "0.678617 (0.011129) with: {'C': 1, 'penalty': 'l2'}\n",
      "0.658131 (0.010686) with: {'C': 10, 'penalty': 'l1'}\n",
      "0.674776 (0.009494) with: {'C': 10, 'penalty': 'l2'}\n",
      "0.619718 (0.009147) with: {'C': 100, 'penalty': 'l1'}\n",
      "0.649168 (0.007713) with: {'C': 100, 'penalty': 'l2'}\n"
     ]
    }
   ],
   "source": [
    "#tuning parameters\n",
    "from sklearn.model_selection import GridSearchCV\n",
    "penalty_range=['l1','l2']\n",
    "C_range=[0.001,0.1,1,10,100]\n",
    "param_grid = dict(penalty=penalty_range,C=C_range)\n",
    "grid = GridSearchCV(estimator=LRclassifier, param_grid=param_grid, n_jobs=-1)\n",
    "grid_result = grid.fit(x,y)\n",
    "print(\"Best: %f using %s\" % (grid_result.best_score_, grid_result.best_params_))\n",
    "means = grid_result.cv_results_['mean_test_score']\n",
    "stds = grid_result.cv_results_['std_test_score']\n",
    "params = grid_result.cv_results_['params']\n",
    "for mean, stdev, param in zip(means, stds, params):\n",
    "    print(\"%f (%f) with: %r\" % (mean, stdev, param))"
   ]
  },
  {
   "cell_type": "markdown",
   "metadata": {},
   "source": [
    "So we got the best parameters are C=1 and penalty=l1. And we can use these to get a new LR model with these parameters."
   ]
  },
  {
   "cell_type": "code",
   "execution_count": 17,
   "metadata": {},
   "outputs": [],
   "source": [
    "LRclassifier=LogisticRegression(C=1,penalty='l1',random_state=0)\n",
    "LRclassifier.fit(x_train,y_train)\n",
    "y_pred=LRclassifier.predict(x_test)"
   ]
  },
  {
   "cell_type": "code",
   "execution_count": 18,
   "metadata": {},
   "outputs": [
    {
     "name": "stdout",
     "output_type": "stream",
     "text": [
      "[[ 13   1   1   2   8]\n",
      " [  3   2   4   0   4]\n",
      " [  1   1   1   1   8]\n",
      " [  1   2   0   5  25]\n",
      " [  0   1   2   3 107]]\n"
     ]
    }
   ],
   "source": [
    "# making the Cofussion Matrix\n",
    "from sklearn.metrics import confusion_matrix\n",
    "LRcm=confusion_matrix(y_test,y_pred)\n",
    "print(LRcm)"
   ]
  },
  {
   "cell_type": "code",
   "execution_count": 19,
   "metadata": {},
   "outputs": [
    {
     "name": "stdout",
     "output_type": "stream",
     "text": [
      "0.6530612244897959\n"
     ]
    }
   ],
   "source": [
    "#AUC of Logistic Regression\n",
    "LRaccuracy=LRcm.trace()/LRcm.sum()\n",
    "print(LRaccuracy)"
   ]
  },
  {
   "cell_type": "markdown",
   "metadata": {},
   "source": [
    "SVM Algorithm"
   ]
  },
  {
   "cell_type": "code",
   "execution_count": 20,
   "metadata": {},
   "outputs": [
    {
     "data": {
      "text/plain": [
       "SVC(C=1.0, cache_size=200, class_weight=None, coef0=0.0,\n",
       "  decision_function_shape='ovr', degree=3, gamma='auto', kernel='rbf',\n",
       "  max_iter=-1, probability=False, random_state=0, shrinking=True,\n",
       "  tol=0.001, verbose=False)"
      ]
     },
     "execution_count": 20,
     "metadata": {},
     "output_type": "execute_result"
    }
   ],
   "source": [
    "from sklearn.svm import SVC\n",
    "SVCclassifier=SVC(random_state=0)\n",
    "SVCclassifier.fit(x_train,y_train)"
   ]
  },
  {
   "cell_type": "code",
   "execution_count": 21,
   "metadata": {},
   "outputs": [
    {
     "name": "stdout",
     "output_type": "stream",
     "text": [
      "Best: 0.670935 using {'C': 0.1, 'kernel': 'linear'}\n",
      "0.641485 (0.003071) with: {'C': 0.0001, 'kernel': 'rbf'}\n",
      "0.641485 (0.003071) with: {'C': 0.0001, 'kernel': 'linear'}\n",
      "0.641485 (0.003071) with: {'C': 0.001, 'kernel': 'rbf'}\n",
      "0.641485 (0.003071) with: {'C': 0.001, 'kernel': 'linear'}\n",
      "0.641485 (0.003071) with: {'C': 0.1, 'kernel': 'rbf'}\n",
      "0.670935 (0.009664) with: {'C': 0.1, 'kernel': 'linear'}\n",
      "0.641485 (0.003071) with: {'C': 1, 'kernel': 'rbf'}\n",
      "0.651729 (0.013545) with: {'C': 1, 'kernel': 'linear'}\n",
      "0.642766 (0.004603) with: {'C': 10, 'kernel': 'rbf'}\n",
      "0.608195 (0.021512) with: {'C': 10, 'kernel': 'linear'}\n",
      "0.667093 (0.012472) with: {'C': 100, 'kernel': 'rbf'}\n",
      "0.580026 (0.021238) with: {'C': 100, 'kernel': 'linear'}\n",
      "0.644046 (0.014713) with: {'C': 1000, 'kernel': 'rbf'}\n",
      "0.578745 (0.032119) with: {'C': 1000, 'kernel': 'linear'}\n"
     ]
    }
   ],
   "source": [
    "#tuning parameters\n",
    "from sklearn.model_selection import GridSearchCV\n",
    "C_range=[0.0001,0.001,0.1,1,10,100,1000]\n",
    "kernel_range=['rbf','linear']\n",
    "param_grid = dict(kernel=kernel_range,C=C_range)\n",
    "grid = GridSearchCV(estimator=SVCclassifier, param_grid=param_grid, n_jobs=-1)\n",
    "grid_result = grid.fit(x,y)\n",
    "print(\"Best: %f using %s\" % (grid_result.best_score_, grid_result.best_params_))\n",
    "means = grid_result.cv_results_['mean_test_score']\n",
    "stds = grid_result.cv_results_['std_test_score']\n",
    "params = grid_result.cv_results_['params']\n",
    "for mean, stdev, param in zip(means, stds, params):\n",
    "    print(\"%f (%f) with: %r\" % (mean, stdev, param))"
   ]
  },
  {
   "cell_type": "markdown",
   "metadata": {},
   "source": [
    "So we got the best parameters are C=0.1 and kernel=linear. And we can use these to get a new SVC model with these parameters."
   ]
  },
  {
   "cell_type": "code",
   "execution_count": 22,
   "metadata": {},
   "outputs": [],
   "source": [
    "SVCclassifier=SVC(kernel='linear',C=0.1,random_state=0)\n",
    "SVCclassifier.fit(x_train,y_train)\n",
    "y_pred=SVCclassifier.predict(x_test)"
   ]
  },
  {
   "cell_type": "code",
   "execution_count": 23,
   "metadata": {},
   "outputs": [
    {
     "name": "stdout",
     "output_type": "stream",
     "text": [
      "[[ 12   0   0   1  12]\n",
      " [  5   0   1   0   7]\n",
      " [  1   0   1   0  10]\n",
      " [  0   1   0   2  30]\n",
      " [  0   1   1   2 109]]\n"
     ]
    }
   ],
   "source": [
    "# making the Cofussion Matrix\n",
    "from sklearn.metrics import confusion_matrix\n",
    "SVMcm=confusion_matrix(y_test,y_pred)\n",
    "print(SVMcm)"
   ]
  },
  {
   "cell_type": "code",
   "execution_count": 24,
   "metadata": {},
   "outputs": [
    {
     "name": "stdout",
     "output_type": "stream",
     "text": [
      "0.6326530612244898\n"
     ]
    }
   ],
   "source": [
    "#AUC of SVM\n",
    "SVMaccuracy=SVMcm.trace()/SVMcm.sum()\n",
    "print(SVMaccuracy)"
   ]
  },
  {
   "cell_type": "markdown",
   "metadata": {},
   "source": [
    "The final result is the Logitic Regression algorithm has the highest accuraccy, which is about 65.31%."
   ]
  }
 ],
 "metadata": {
  "kernelspec": {
   "display_name": "Python 3",
   "language": "python",
   "name": "python3"
  },
  "language_info": {
   "codemirror_mode": {
    "name": "ipython",
    "version": 3
   },
   "file_extension": ".py",
   "mimetype": "text/x-python",
   "name": "python",
   "nbconvert_exporter": "python",
   "pygments_lexer": "ipython3",
   "version": "3.6.4"
  }
 },
 "nbformat": 4,
 "nbformat_minor": 2
}

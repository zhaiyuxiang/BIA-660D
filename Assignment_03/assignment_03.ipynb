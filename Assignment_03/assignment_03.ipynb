{
 "cells": [
  {
   "cell_type": "code",
   "execution_count": 1,
   "metadata": {},
   "outputs": [],
   "source": [
    "import pandas as pd\n",
    "import numpy as np\n",
    "import matplotlib.pyplot as plt"
   ]
  },
  {
   "cell_type": "code",
   "execution_count": 2,
   "metadata": {},
   "outputs": [],
   "source": [
    "#data slice for reviews\n",
    "df=pd.read_json('reviews.json')   \n",
    "temp=[i.strip() for i in df.iloc[:,3]]   "
   ]
  },
  {
   "cell_type": "code",
   "execution_count": 3,
   "metadata": {},
   "outputs": [],
   "source": [
    "#delete punctuation\n",
    "import string\n",
    "exclude = set(string.punctuation)\n",
    "reviews=[]\n",
    "for i in range(len(temp)):\n",
    "    reviews.append(''.join(ch for ch in temp[i] if ch not in exclude))  "
   ]
  },
  {
   "cell_type": "code",
   "execution_count": 4,
   "metadata": {},
   "outputs": [],
   "source": [
    "#delete numbers\n",
    "reviews1=[]\n",
    "for i in range(len(temp)):\n",
    "\n",
    "    reviews1.append(''.join(ch for ch in reviews[i] if not ch.isdigit()))  "
   ]
  },
  {
   "cell_type": "code",
   "execution_count": 5,
   "metadata": {
    "scrolled": true
   },
   "outputs": [],
   "source": [
    "#stem words\n",
    "from nltk.tokenize import word_tokenize,sent_tokenize\n",
    "from nltk.stem.lancaster import LancasterStemmer\n",
    "stemmer = LancasterStemmer()\n",
    "temp1=[]\n",
    "temp2=[]\n",
    "for i in range(len(reviews)):\n",
    "    words = word_tokenize(reviews1[i])\n",
    "    for word in words:\n",
    "        temp1.append(stemmer.stem(word))\n",
    "    temp2.append(temp1)\n",
    "    temp1=[]\n",
    "\n",
    "stemed_reviews=[]\n",
    "for i in range(len(temp2)):\n",
    "    a=' '.join(temp2[i])\n",
    "    stemed_reviews.append(a)   "
   ]
  },
  {
   "cell_type": "code",
   "execution_count": 6,
   "metadata": {},
   "outputs": [
    {
     "name": "stderr",
     "output_type": "stream",
     "text": [
      "C:\\Users\\yuxia\\Anaconda3\\lib\\site-packages\\nltk\\twitter\\__init__.py:20: UserWarning: The twython library has not been installed. Some functionality from the twitter package will not be available.\n",
      "  warnings.warn(\"The twython library has not been installed. \"\n"
     ]
    },
    {
     "name": "stdout",
     "output_type": "stream",
     "text": [
      "[nltk_data] Downloading package vader_lexicon to\n",
      "[nltk_data]     C:\\Users\\yuxia\\AppData\\Roaming\\nltk_data...\n",
      "[nltk_data]   Package vader_lexicon is already up-to-date!\n"
     ]
    }
   ],
   "source": [
    "#sentiment analysis (pos vs neg vs neu)\n",
    "from nltk.sentiment.vader import SentimentIntensityAnalyzer\n",
    "import nltk\n",
    "neg=[]\n",
    "pos=[]\n",
    "neu=[]\n",
    "compound=[]\n",
    "nltk.download('vader_lexicon')\n",
    "sid = SentimentIntensityAnalyzer()\n",
    "for sentence in reviews1:\n",
    "    ss = sid.polarity_scores(sentence)\n",
    "    neg.append(ss['neg'])\n",
    "    pos.append(ss['pos'])\n",
    "    neu.append(ss['neu'])\n",
    "    compound.append(ss['compound'])"
   ]
  },
  {
   "cell_type": "code",
   "execution_count": 7,
   "metadata": {},
   "outputs": [],
   "source": [
    "#get review length\n",
    "rating=df.iloc[:, 2].values\n",
    "reviews=df.iloc[:, 3]   \n",
    "review_lengths=reviews.apply(lambda r: len(r))"
   ]
  },
  {
   "cell_type": "code",
   "execution_count": 8,
   "metadata": {},
   "outputs": [
    {
     "data": {
      "text/html": [
       "<div>\n",
       "<style scoped>\n",
       "    .dataframe tbody tr th:only-of-type {\n",
       "        vertical-align: middle;\n",
       "    }\n",
       "\n",
       "    .dataframe tbody tr th {\n",
       "        vertical-align: top;\n",
       "    }\n",
       "\n",
       "    .dataframe thead th {\n",
       "        text-align: right;\n",
       "    }\n",
       "</style>\n",
       "<table border=\"1\" class=\"dataframe\">\n",
       "  <thead>\n",
       "    <tr style=\"text-align: right;\">\n",
       "      <th></th>\n",
       "      <th>Author</th>\n",
       "      <th>Date</th>\n",
       "      <th>Rating</th>\n",
       "      <th>Review</th>\n",
       "      <th>lenth</th>\n",
       "      <th>neg</th>\n",
       "      <th>pos</th>\n",
       "      <th>neu</th>\n",
       "      <th>compound</th>\n",
       "    </tr>\n",
       "  </thead>\n",
       "  <tbody>\n",
       "    <tr>\n",
       "      <th>0</th>\n",
       "      <td>jon asri</td>\n",
       "      <td>2018-04-05</td>\n",
       "      <td>1</td>\n",
       "      <td>doa and thi item is not elig for return</td>\n",
       "      <td>45</td>\n",
       "      <td>0.335</td>\n",
       "      <td>0.000</td>\n",
       "      <td>0.665</td>\n",
       "      <td>-0.6166</td>\n",
       "    </tr>\n",
       "    <tr>\n",
       "      <th>1</th>\n",
       "      <td>Terry</td>\n",
       "      <td>2018-04-05</td>\n",
       "      <td>3</td>\n",
       "      <td>they ar bad light real bright light depress th...</td>\n",
       "      <td>326</td>\n",
       "      <td>0.056</td>\n",
       "      <td>0.172</td>\n",
       "      <td>0.772</td>\n",
       "      <td>0.7375</td>\n",
       "    </tr>\n",
       "    <tr>\n",
       "      <th>10</th>\n",
       "      <td>Tami Jones</td>\n",
       "      <td>2018-04-04</td>\n",
       "      <td>2</td>\n",
       "      <td>on of the two light i receiv doe not work i di...</td>\n",
       "      <td>104</td>\n",
       "      <td>0.000</td>\n",
       "      <td>0.000</td>\n",
       "      <td>1.000</td>\n",
       "      <td>0.0000</td>\n",
       "    </tr>\n",
       "    <tr>\n",
       "      <th>100</th>\n",
       "      <td>Amazon Customer</td>\n",
       "      <td>2018-01-04</td>\n",
       "      <td>4</td>\n",
       "      <td>nic produc for a good pric wish it had a set t...</td>\n",
       "      <td>175</td>\n",
       "      <td>0.000</td>\n",
       "      <td>0.225</td>\n",
       "      <td>0.775</td>\n",
       "      <td>0.8126</td>\n",
       "    </tr>\n",
       "    <tr>\n",
       "      <th>101</th>\n",
       "      <td>Carol C.</td>\n",
       "      <td>2018-01-03</td>\n",
       "      <td>1</td>\n",
       "      <td>i bought thes to us as a bik headlight my comm...</td>\n",
       "      <td>761</td>\n",
       "      <td>0.048</td>\n",
       "      <td>0.040</td>\n",
       "      <td>0.912</td>\n",
       "      <td>-0.5012</td>\n",
       "    </tr>\n",
       "  </tbody>\n",
       "</table>\n",
       "</div>"
      ],
      "text/plain": [
       "              Author       Date  Rating  \\\n",
       "0           jon asri 2018-04-05       1   \n",
       "1              Terry 2018-04-05       3   \n",
       "10        Tami Jones 2018-04-04       2   \n",
       "100  Amazon Customer 2018-01-04       4   \n",
       "101         Carol C. 2018-01-03       1   \n",
       "\n",
       "                                                Review  lenth    neg    pos  \\\n",
       "0              doa and thi item is not elig for return     45  0.335  0.000   \n",
       "1    they ar bad light real bright light depress th...    326  0.056  0.172   \n",
       "10   on of the two light i receiv doe not work i di...    104  0.000  0.000   \n",
       "100  nic produc for a good pric wish it had a set t...    175  0.000  0.225   \n",
       "101  i bought thes to us as a bik headlight my comm...    761  0.048  0.040   \n",
       "\n",
       "       neu  compound  \n",
       "0    0.665   -0.6166  \n",
       "1    0.772    0.7375  \n",
       "10   1.000    0.0000  \n",
       "100  0.775    0.8126  \n",
       "101  0.912   -0.5012  "
      ]
     },
     "execution_count": 8,
     "metadata": {},
     "output_type": "execute_result"
    }
   ],
   "source": [
    "#add features to df\n",
    "df['lenth']=review_lengths\n",
    "df['neg']=neg\n",
    "df['pos']=pos\n",
    "df['neu']=neu\n",
    "df['compound']=compound\n",
    "df.replace(to_replace=df['Review'].values,value=stemed_reviews,inplace=True) \n",
    "df.head()"
   ]
  },
  {
   "cell_type": "code",
   "execution_count": 9,
   "metadata": {
    "scrolled": false
   },
   "outputs": [
    {
     "data": {
      "image/png": "[encoded data removed]",
      "text/plain": [
       "<matplotlib.figure.Figure at 0x1e950f69828>"
      ]
     },
     "metadata": {},
     "output_type": "display_data"
    }
   ],
   "source": [
    "#features hist\n",
    "df.hist(bins=50,figsize=(20,15))\n",
    "plt.show()"
   ]
  },
  {
   "cell_type": "code",
   "execution_count": 10,
   "metadata": {},
   "outputs": [
    {
     "data": {
      "text/plain": [
       "<matplotlib.axes._subplots.AxesSubplot at 0x1e951af8b38>"
      ]
     },
     "execution_count": 10,
     "metadata": {},
     "output_type": "execute_result"
    },
    {
     "data": {
      "image/png": "[encoded data removed]",
      "text/plain": [
       "<matplotlib.figure.Figure at 0x1e950f69cf8>"
      ]
     },
     "metadata": {},
     "output_type": "display_data"
    }
   ],
   "source": [
    "#features heat map\n",
    "import seaborn as sns\n",
    "df.corr()\n",
    "sns.heatmap(df.corr())"
   ]
  },
  {
   "cell_type": "markdown",
   "metadata": {},
   "source": [
    "Seems like all the features have some relationship with the score. Let's use all of them."
   ]
  },
  {
   "cell_type": "code",
   "execution_count": 11,
   "metadata": {},
   "outputs": [],
   "source": [
    "#get word bag\n",
    "from sklearn.feature_extraction.text import CountVectorizer\n",
    "cv = CountVectorizer(stop_words='english')\n",
    "data = cv.fit_transform(stemed_reviews)\n",
    "data=data.toarray()\n",
    "word_bag_title=cv.get_feature_names()    "
   ]
  },
  {
   "cell_type": "code",
   "execution_count": 12,
   "metadata": {},
   "outputs": [],
   "source": [
    "#creat dataframe of IV\n",
    "df_x=pd.DataFrame(data)"
   ]
  },
  {
   "cell_type": "markdown",
   "metadata": {},
   "source": [
    "Those words appear only once in the reviews should not  make sense. Let's delete them."
   ]
  },
  {
   "cell_type": "code",
   "execution_count": 13,
   "metadata": {},
   "outputs": [],
   "source": [
    "for j in range(1599):\n",
    "    co_sum=0\n",
    "    for i in range(781):\n",
    "        co_sum=co_sum+df_x[j][i]\n",
    "    if co_sum==1:\n",
    "        df_x.pop(j)"
   ]
  },
  {
   "cell_type": "code",
   "execution_count": 14,
   "metadata": {},
   "outputs": [
    {
     "data": {
      "text/html": [
       "<div>\n",
       "<style scoped>\n",
       "    .dataframe tbody tr th:only-of-type {\n",
       "        vertical-align: middle;\n",
       "    }\n",
       "\n",
       "    .dataframe tbody tr th {\n",
       "        vertical-align: top;\n",
       "    }\n",
       "\n",
       "    .dataframe thead th {\n",
       "        text-align: right;\n",
       "    }\n",
       "</style>\n",
       "<table border=\"1\" class=\"dataframe\">\n",
       "  <thead>\n",
       "    <tr style=\"text-align: right;\">\n",
       "      <th></th>\n",
       "      <th>0</th>\n",
       "      <th>2</th>\n",
       "      <th>3</th>\n",
       "      <th>4</th>\n",
       "      <th>7</th>\n",
       "      <th>9</th>\n",
       "      <th>11</th>\n",
       "      <th>12</th>\n",
       "      <th>13</th>\n",
       "      <th>15</th>\n",
       "      <th>...</th>\n",
       "      <th>1589</th>\n",
       "      <th>1591</th>\n",
       "      <th>1593</th>\n",
       "      <th>1595</th>\n",
       "      <th>1597</th>\n",
       "      <th>lenth</th>\n",
       "      <th>neg</th>\n",
       "      <th>pos</th>\n",
       "      <th>neu</th>\n",
       "      <th>compound</th>\n",
       "    </tr>\n",
       "  </thead>\n",
       "  <tbody>\n",
       "    <tr>\n",
       "      <th>0</th>\n",
       "      <td>0</td>\n",
       "      <td>0</td>\n",
       "      <td>0</td>\n",
       "      <td>0</td>\n",
       "      <td>0</td>\n",
       "      <td>0</td>\n",
       "      <td>0</td>\n",
       "      <td>0</td>\n",
       "      <td>0</td>\n",
       "      <td>0</td>\n",
       "      <td>...</td>\n",
       "      <td>0</td>\n",
       "      <td>0</td>\n",
       "      <td>0</td>\n",
       "      <td>0</td>\n",
       "      <td>0</td>\n",
       "      <td>45</td>\n",
       "      <td>0.335</td>\n",
       "      <td>0.000</td>\n",
       "      <td>0.665</td>\n",
       "      <td>-0.6166</td>\n",
       "    </tr>\n",
       "    <tr>\n",
       "      <th>1</th>\n",
       "      <td>0</td>\n",
       "      <td>0</td>\n",
       "      <td>0</td>\n",
       "      <td>0</td>\n",
       "      <td>0</td>\n",
       "      <td>0</td>\n",
       "      <td>0</td>\n",
       "      <td>0</td>\n",
       "      <td>0</td>\n",
       "      <td>0</td>\n",
       "      <td>...</td>\n",
       "      <td>0</td>\n",
       "      <td>0</td>\n",
       "      <td>0</td>\n",
       "      <td>0</td>\n",
       "      <td>0</td>\n",
       "      <td>326</td>\n",
       "      <td>0.056</td>\n",
       "      <td>0.172</td>\n",
       "      <td>0.772</td>\n",
       "      <td>0.7375</td>\n",
       "    </tr>\n",
       "    <tr>\n",
       "      <th>2</th>\n",
       "      <td>0</td>\n",
       "      <td>0</td>\n",
       "      <td>0</td>\n",
       "      <td>0</td>\n",
       "      <td>0</td>\n",
       "      <td>0</td>\n",
       "      <td>0</td>\n",
       "      <td>0</td>\n",
       "      <td>0</td>\n",
       "      <td>0</td>\n",
       "      <td>...</td>\n",
       "      <td>0</td>\n",
       "      <td>0</td>\n",
       "      <td>0</td>\n",
       "      <td>0</td>\n",
       "      <td>0</td>\n",
       "      <td>161</td>\n",
       "      <td>0.000</td>\n",
       "      <td>0.000</td>\n",
       "      <td>1.000</td>\n",
       "      <td>0.0000</td>\n",
       "    </tr>\n",
       "    <tr>\n",
       "      <th>3</th>\n",
       "      <td>0</td>\n",
       "      <td>0</td>\n",
       "      <td>0</td>\n",
       "      <td>0</td>\n",
       "      <td>0</td>\n",
       "      <td>0</td>\n",
       "      <td>0</td>\n",
       "      <td>0</td>\n",
       "      <td>0</td>\n",
       "      <td>0</td>\n",
       "      <td>...</td>\n",
       "      <td>0</td>\n",
       "      <td>0</td>\n",
       "      <td>0</td>\n",
       "      <td>0</td>\n",
       "      <td>0</td>\n",
       "      <td>227</td>\n",
       "      <td>0.000</td>\n",
       "      <td>0.225</td>\n",
       "      <td>0.775</td>\n",
       "      <td>0.8126</td>\n",
       "    </tr>\n",
       "    <tr>\n",
       "      <th>4</th>\n",
       "      <td>0</td>\n",
       "      <td>0</td>\n",
       "      <td>0</td>\n",
       "      <td>0</td>\n",
       "      <td>0</td>\n",
       "      <td>0</td>\n",
       "      <td>0</td>\n",
       "      <td>0</td>\n",
       "      <td>0</td>\n",
       "      <td>0</td>\n",
       "      <td>...</td>\n",
       "      <td>0</td>\n",
       "      <td>0</td>\n",
       "      <td>0</td>\n",
       "      <td>0</td>\n",
       "      <td>0</td>\n",
       "      <td>82</td>\n",
       "      <td>0.048</td>\n",
       "      <td>0.040</td>\n",
       "      <td>0.912</td>\n",
       "      <td>-0.5012</td>\n",
       "    </tr>\n",
       "  </tbody>\n",
       "</table>\n",
       "<p>5 rows × 834 columns</p>\n",
       "</div>"
      ],
      "text/plain": [
       "   0  2  3  4  7  9  11  12  13  15    ...     1589  1591  1593  1595  1597  \\\n",
       "0  0  0  0  0  0  0   0   0   0   0    ...        0     0     0     0     0   \n",
       "1  0  0  0  0  0  0   0   0   0   0    ...        0     0     0     0     0   \n",
       "2  0  0  0  0  0  0   0   0   0   0    ...        0     0     0     0     0   \n",
       "3  0  0  0  0  0  0   0   0   0   0    ...        0     0     0     0     0   \n",
       "4  0  0  0  0  0  0   0   0   0   0    ...        0     0     0     0     0   \n",
       "\n",
       "   lenth    neg    pos    neu  compound  \n",
       "0     45  0.335  0.000  0.665   -0.6166  \n",
       "1    326  0.056  0.172  0.772    0.7375  \n",
       "2    161  0.000  0.000  1.000    0.0000  \n",
       "3    227  0.000  0.225  0.775    0.8126  \n",
       "4     82  0.048  0.040  0.912   -0.5012  \n",
       "\n",
       "[5 rows x 834 columns]"
      ]
     },
     "execution_count": 14,
     "metadata": {},
     "output_type": "execute_result"
    }
   ],
   "source": [
    "#complete the dataframe of IV\n",
    "df_x['lenth']=review_lengths\n",
    "df_x['neg']=neg\n",
    "df_x['pos']=pos\n",
    "df_x['neu']=neu\n",
    "df_x['compound']=compound\n",
    "df_x.head()"
   ]
  },
  {
   "cell_type": "code",
   "execution_count": 15,
   "metadata": {},
   "outputs": [],
   "source": [
    "#get DV and IV\n",
    "x = df_x\n",
    "y = df.iloc[:, 2].values    "
   ]
  },
  {
   "cell_type": "code",
   "execution_count": 16,
   "metadata": {},
   "outputs": [],
   "source": [
    "#splitting the dataset into the sraining set and test set\n",
    "from sklearn.model_selection import train_test_split             \n",
    "x_train, x_test, y_train, y_test = train_test_split(x, y, test_size = 0.20, random_state = 0)    "
   ]
  },
  {
   "cell_type": "markdown",
   "metadata": {},
   "source": [
    "RandomForest Algorithm"
   ]
  },
  {
   "cell_type": "code",
   "execution_count": 17,
   "metadata": {},
   "outputs": [],
   "source": [
    "from sklearn.ensemble import RandomForestClassifier         \n",
    "RFclassifier=RandomForestClassifier(random_state=0)"
   ]
  },
  {
   "cell_type": "code",
   "execution_count": 18,
   "metadata": {},
   "outputs": [
    {
     "name": "stdout",
     "output_type": "stream",
     "text": [
      "Best: 0.702945 using {'max_depth': None, 'min_samples_leaf': 1, 'min_samples_split': 5, 'n_estimators': 500}\n"
     ]
    }
   ],
   "source": [
    "#tuning parameters\n",
    "from sklearn.model_selection import GridSearchCV\n",
    "n_estimators_range=[10,100,500,1000]\n",
    "max_depth_range=[None,5,8,15,30]\n",
    "min_samples_split_range=[2,5,10,50,100]\n",
    "min_samples_leaf_range=[1,2,5,10]\n",
    "param_grid = dict(n_estimators=n_estimators_range, max_depth=max_depth_range, min_samples_leaf=min_samples_leaf_range, min_samples_split=min_samples_split_range)\n",
    "grid = GridSearchCV(estimator=RFclassifier, param_grid=param_grid, n_jobs=-1)\n",
    "grid_result = grid.fit(x,y)\n",
    "print(\"Best: %f using %s\" % (grid_result.best_score_, grid_result.best_params_))\n",
    "means = grid_result.cv_results_['mean_test_score']\n",
    "stds = grid_result.cv_results_['std_test_score']\n",
    "params = grid_result.cv_results_['params']\n",
    "#for mean, stdev, param in zip(means, stds, params):\n",
    "    #print(\"%f (%f) with: %r\" % (mean, stdev, param))\n",
    "#(Result is too long on github)"
   ]
  },
  {
   "cell_type": "markdown",
   "metadata": {},
   "source": [
    "So we got the best parameters are max_depth:None, min_samples_leaf:1, min_samples_split:5 and n_estimators:500. And we can use these to get a new RF model with these parameters."
   ]
  },
  {
   "cell_type": "code",
   "execution_count": 19,
   "metadata": {},
   "outputs": [],
   "source": [
    "#predicting the test set result\n",
    "RFclassifier=RandomForestClassifier(min_samples_leaf=1,min_samples_split=5,n_estimators=500,max_depth=None,random_state=0)\n",
    "RFclassifier.fit(x_train,y_train)\n",
    "y_pred=RFclassifier.predict(x_test)"
   ]
  },
  {
   "cell_type": "code",
   "execution_count": 20,
   "metadata": {},
   "outputs": [
    {
     "name": "stdout",
     "output_type": "stream",
     "text": [
      "[[17  0  0  0  3]\n",
      " [ 3  1  0  0  8]\n",
      " [ 0  2  0  1  6]\n",
      " [ 0  1  1  1 23]\n",
      " [ 0  0  0  0 90]]\n"
     ]
    }
   ],
   "source": [
    "#making the Confusion Matrix\n",
    "from sklearn.metrics import confusion_matrix\n",
    "RFcm=confusion_matrix(y_test,y_pred)\n",
    "print(RFcm)"
   ]
  },
  {
   "cell_type": "code",
   "execution_count": 21,
   "metadata": {},
   "outputs": [
    {
     "name": "stdout",
     "output_type": "stream",
     "text": [
      "0.6942675159235668\n"
     ]
    }
   ],
   "source": [
    "#AUC of RandomForest\n",
    "RFaccuracy=RFcm.trace()/RFcm.sum()\n",
    "print(RFaccuracy)"
   ]
  },
  {
   "cell_type": "markdown",
   "metadata": {},
   "source": [
    "Logistic Regression Algorithm"
   ]
  },
  {
   "cell_type": "code",
   "execution_count": 22,
   "metadata": {
    "scrolled": true
   },
   "outputs": [],
   "source": [
    "from sklearn.linear_model import LogisticRegression     \n",
    "LRclassifier=LogisticRegression(random_state=0)"
   ]
  },
  {
   "cell_type": "code",
   "execution_count": 23,
   "metadata": {
    "scrolled": true
   },
   "outputs": [
    {
     "name": "stdout",
     "output_type": "stream",
     "text": [
      "Best: 0.708067 using {'C': 1, 'penalty': 'l2'}\n",
      "0.641485 (0.003071) with: {'C': 0.001, 'penalty': 'l1'}\n",
      "0.641485 (0.003071) with: {'C': 0.001, 'penalty': 'l2'}\n",
      "0.673496 (0.001628) with: {'C': 0.1, 'penalty': 'l1'}\n",
      "0.701665 (0.003507) with: {'C': 0.1, 'penalty': 'l2'}\n",
      "0.706786 (0.013618) with: {'C': 1, 'penalty': 'l1'}\n",
      "0.708067 (0.013750) with: {'C': 1, 'penalty': 'l2'}\n",
      "0.665813 (0.011581) with: {'C': 10, 'penalty': 'l1'}\n",
      "0.687580 (0.008943) with: {'C': 10, 'penalty': 'l2'}\n",
      "0.631242 (0.013059) with: {'C': 100, 'penalty': 'l1'}\n",
      "0.667093 (0.021503) with: {'C': 100, 'penalty': 'l2'}\n"
     ]
    }
   ],
   "source": [
    "#tuning parameters\n",
    "from sklearn.model_selection import GridSearchCV\n",
    "penalty_range=['l1','l2']\n",
    "C_range=[0.001,0.1,1,10,100]\n",
    "param_grid = dict(penalty=penalty_range,C=C_range)\n",
    "grid = GridSearchCV(estimator=LRclassifier, param_grid=param_grid, n_jobs=-1)\n",
    "grid_result = grid.fit(x,y)\n",
    "print(\"Best: %f using %s\" % (grid_result.best_score_, grid_result.best_params_))\n",
    "means = grid_result.cv_results_['mean_test_score']\n",
    "stds = grid_result.cv_results_['std_test_score']\n",
    "params = grid_result.cv_results_['params']\n",
    "for mean, stdev, param in zip(means, stds, params):\n",
    "    print(\"%f (%f) with: %r\" % (mean, stdev, param))"
   ]
  },
  {
   "cell_type": "markdown",
   "metadata": {},
   "source": [
    "So we got the best parameters are C=1 and penalty=l2. And we can use these to get a new LR model with these parameters."
   ]
  },
  {
   "cell_type": "code",
   "execution_count": 24,
   "metadata": {},
   "outputs": [],
   "source": [
    "LRclassifier=LogisticRegression(C=1,penalty='l2',random_state=0)\n",
    "LRclassifier.fit(x_train,y_train)\n",
    "y_pred=LRclassifier.predict(x_test)"
   ]
  },
  {
   "cell_type": "code",
   "execution_count": 25,
   "metadata": {},
   "outputs": [
    {
     "name": "stdout",
     "output_type": "stream",
     "text": [
      "[[12  1  1  5  1]\n",
      " [ 3  2  3  1  3]\n",
      " [ 1  1  1  2  4]\n",
      " [ 2  0  1  5 18]\n",
      " [ 0  1  0  2 87]]\n"
     ]
    }
   ],
   "source": [
    "# making the Cofussion Matrix\n",
    "from sklearn.metrics import confusion_matrix\n",
    "LRcm=confusion_matrix(y_test,y_pred)\n",
    "print(LRcm)"
   ]
  },
  {
   "cell_type": "code",
   "execution_count": 26,
   "metadata": {},
   "outputs": [
    {
     "name": "stdout",
     "output_type": "stream",
     "text": [
      "0.6815286624203821\n"
     ]
    }
   ],
   "source": [
    "#AUC of Logistic Regression\n",
    "LRaccuracy=LRcm.trace()/LRcm.sum()\n",
    "print(LRaccuracy)"
   ]
  },
  {
   "cell_type": "markdown",
   "metadata": {},
   "source": [
    "SVM Algorithm"
   ]
  },
  {
   "cell_type": "code",
   "execution_count": 27,
   "metadata": {},
   "outputs": [],
   "source": [
    "from sklearn.svm import SVC\n",
    "SVCclassifier=SVC(random_state=0)"
   ]
  },
  {
   "cell_type": "code",
   "execution_count": 28,
   "metadata": {},
   "outputs": [
    {
     "name": "stdout",
     "output_type": "stream",
     "text": [
      "Best: 0.696543 using {'C': 0.1, 'kernel': 'linear'}\n",
      "0.641485 (0.003071) with: {'C': 0.001, 'kernel': 'rbf'}\n",
      "0.641485 (0.003071) with: {'C': 0.001, 'kernel': 'linear'}\n",
      "0.641485 (0.003071) with: {'C': 0.1, 'kernel': 'rbf'}\n",
      "0.696543 (0.009727) with: {'C': 0.1, 'kernel': 'linear'}\n",
      "0.641485 (0.003071) with: {'C': 1, 'kernel': 'rbf'}\n",
      "0.672215 (0.021932) with: {'C': 1, 'kernel': 'linear'}\n",
      "0.627401 (0.009181) with: {'C': 10, 'kernel': 'rbf'}\n",
      "0.629962 (0.008899) with: {'C': 10, 'kernel': 'linear'}\n",
      "0.627401 (0.008343) with: {'C': 100, 'kernel': 'rbf'}\n",
      "0.615877 (0.018985) with: {'C': 100, 'kernel': 'linear'}\n"
     ]
    }
   ],
   "source": [
    "#tuning parameters\n",
    "from sklearn.model_selection import GridSearchCV\n",
    "C_range=[0.001,0.1,1,10,100]\n",
    "kernel_range=['rbf','linear']\n",
    "param_grid = dict(kernel=kernel_range,C=C_range)\n",
    "grid = GridSearchCV(estimator=SVCclassifier, param_grid=param_grid, n_jobs=-1)\n",
    "grid_result = grid.fit(x,y)\n",
    "print(\"Best: %f using %s\" % (grid_result.best_score_, grid_result.best_params_))\n",
    "means = grid_result.cv_results_['mean_test_score']\n",
    "stds = grid_result.cv_results_['std_test_score']\n",
    "params = grid_result.cv_results_['params']\n",
    "for mean, stdev, param in zip(means, stds, params):\n",
    "    print(\"%f (%f) with: %r\" % (mean, stdev, param))"
   ]
  },
  {
   "cell_type": "markdown",
   "metadata": {},
   "source": [
    "So we got the best parameters are C=0.1 and kernel=linear. And we can use these to get a new SVC model with these parameters."
   ]
  },
  {
   "cell_type": "code",
   "execution_count": 29,
   "metadata": {},
   "outputs": [],
   "source": [
    "SVCclassifier=SVC(kernel='linear',C=0.1,random_state=0)\n",
    "SVCclassifier.fit(x_train,y_train)\n",
    "y_pred=SVCclassifier.predict(x_test)"
   ]
  },
  {
   "cell_type": "code",
   "execution_count": 30,
   "metadata": {},
   "outputs": [
    {
     "name": "stdout",
     "output_type": "stream",
     "text": [
      "[[13  1  2  1  3]\n",
      " [ 6  0  1  1  4]\n",
      " [ 1  1  0  0  7]\n",
      " [ 0  0  0  2 24]\n",
      " [ 0  1  0  1 88]]\n"
     ]
    }
   ],
   "source": [
    "# making the Cofussion Matrix\n",
    "from sklearn.metrics import confusion_matrix\n",
    "SVMcm=confusion_matrix(y_test,y_pred)\n",
    "print(SVMcm)"
   ]
  },
  {
   "cell_type": "code",
   "execution_count": 31,
   "metadata": {},
   "outputs": [
    {
     "name": "stdout",
     "output_type": "stream",
     "text": [
      "0.6560509554140127\n"
     ]
    }
   ],
   "source": [
    "#AUC of SVM\n",
    "SVMaccuracy=SVMcm.trace()/SVMcm.sum()\n",
    "print(SVMaccuracy)"
   ]
  },
  {
   "cell_type": "markdown",
   "metadata": {},
   "source": [
    "The final result is the Random Forest algorithm has the highest accuraccy, which is about 70%."
   ]
  }
 ],
 "metadata": {
  "kernelspec": {
   "display_name": "Python 3",
   "language": "python",
   "name": "python3"
  },
  "language_info": {
   "codemirror_mode": {
    "name": "ipython",
    "version": 3
   },
   "file_extension": ".py",
   "mimetype": "text/x-python",
   "name": "python",
   "nbconvert_exporter": "python",
   "pygments_lexer": "ipython3",
   "version": "3.6.4"
  }
 },
 "nbformat": 4,
 "nbformat_minor": 2
}
